{
 "cells": [
  {
   "cell_type": "code",
   "execution_count": 29,
   "metadata": {},
   "outputs": [
    {
     "name": "stdout",
     "output_type": "stream",
     "text": [
      "[('07', 1061), ('08', 2531), ('09', 3199)]\n"
     ]
    }
   ],
   "source": [
    "# Export the country club data from PHPMyAdmin, and connect to a local SQLite instance from Jupyter notebook \n",
    "# for the following questions.  \n",
    "# QUESTIONS:\n",
    "# /* Q10: Produce a list of facilities with a total revenue less than 1000.\n",
    "# The output of facility name and total revenue, sorted by revenue. Remember\n",
    "# that there's a different cost for guests and members! */\n",
    "# select name, sum(case when memid = 0 then slots * guestcost else slots * membercost end) as revenue from Bookings left join Facilities using(facid) group by name having revenue < 1000;\n",
    "# /* Q11: Produce a report of members and who recommended them in alphabetic surname,firstname order */\n",
    "# /* Q12: Find the facilities with their usage by member, but not guests */\n",
    "# /* Q13: Find the facilities usage by month, but not guests */\n",
    "\n",
    "\n",
    "import sqlite3\n",
    "dbfile=\"sqlite_db_pythonsqlite.db\"\n",
    "con = sqlite3.connect(dbfile)\n",
    "cursor = con.cursor()\n",
    "\n",
    "\n",
    "sql10 =''' select name, sum(case when memid = 0 then slots * guestcost else slots * membercost end) as revenue \n",
    "from Bookings left join Facilities using(facid) \n",
    "group by name \n",
    "having revenue < 1000 order by revenue'''\n",
    "\n",
    "sql11=''' SELECT x.firstname || ' ' || x.surname as member, y.firstname|| ' ' ||y.surname as recommender FROM Members as x left join Members as y on x.recommendedby=y.memid  WHERE x.memid > 0\n",
    "order by x.surname, x.firstname'''\n",
    "\n",
    "\n",
    "sql12='''SELECT facid, Name, (select sum(slots) from Bookings where Bookings.facid=Facilities.facid and Bookings.memid >0) as Mem_usage_slots  FROM Facilities WHERE facid in (select facid from Bookings where memid > 0)\n",
    "'''\n",
    "\n",
    "sql13='''SELECT b.months, sum( b.slots ) AS mem_slots_usage\n",
    "FROM (\n",
    "SELECT strftime('%m', starttime) AS months, slots\n",
    "FROM Bookings\n",
    "WHERE memid !=0\n",
    ") AS b\n",
    "GROUP BY b.months;\n",
    "'''\n",
    "\n",
    "\n",
    "\n",
    "#Executing the query\n",
    "cursor.execute(sql13)\n",
    "\n",
    "#Fetching 1st row from the table\n",
    "result = cursor.fetchall();\n",
    "print(result)\n"
   ]
  },
  {
   "cell_type": "code",
   "execution_count": null,
   "metadata": {},
   "outputs": [],
   "source": []
  },
  {
   "cell_type": "code",
   "execution_count": null,
   "metadata": {},
   "outputs": [],
   "source": []
  },
  {
   "cell_type": "code",
   "execution_count": null,
   "metadata": {},
   "outputs": [],
   "source": []
  }
 ],
 "metadata": {
  "kernelspec": {
   "display_name": "Python 3.8.13 ('university')",
   "language": "python",
   "name": "python3"
  },
  "language_info": {
   "codemirror_mode": {
    "name": "ipython",
    "version": 3
   },
   "file_extension": ".py",
   "mimetype": "text/x-python",
   "name": "python",
   "nbconvert_exporter": "python",
   "pygments_lexer": "ipython3",
   "version": "3.8.13"
  },
  "orig_nbformat": 4,
  "vscode": {
   "interpreter": {
    "hash": "bdb10b49d1fde69406504e917eaa4e46c2d2f1167c7cb0a7857cc79c9185a342"
   }
  }
 },
 "nbformat": 4,
 "nbformat_minor": 2
}
