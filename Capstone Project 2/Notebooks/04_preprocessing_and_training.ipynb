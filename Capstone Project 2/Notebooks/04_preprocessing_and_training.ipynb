{
 "cells": [
  {
   "cell_type": "markdown",
   "metadata": {},
   "source": [
    "# 4 Pre-Processing and Training Data<a id='4_Pre-Processing_and_Training_Data'></a>"
   ]
  },
  {
   "cell_type": "markdown",
   "metadata": {},
   "source": [
    "## 4.1 Contents<a id='4.1_Contents'></a>\n",
    "* [4 Pre-Processing and Training Data](#4_Pre-Processing_and_Training_Data)\n",
    "  * [4.1 Contents](#4.1_Contents)\n",
    "  * [4.2 Introduction](#4.2_Introduction)\n",
    "  * [4.3 Imports](#4.3_Imports)\n",
    "  * [4.4 Load Data](#4.4_Load_Data)\n",
    "  * [4.5 Train/Test Split](#4.5_Train/Test_Split)\n",
    "  * [4.6 Scaling data](#4.6_Scaling_data)\n",
    "  * [4.7 Initial Models](#4.7_Initial_Models)\n",
    "  * [4.8 Models Perfomance](#4.8_Models_Perfomance)\n",
    "  * [4.9 Final Model Selection](#4.9_Final_Model_Selection)    \n",
    "  * [4.10 Data quantity assessment](#4.10_Data_quantity_assessment)\n",
    "  * [4.11 Save best model object](#4.11_Save_best_model_object)\n",
    "  \n"
   ]
  },
  {
   "cell_type": "markdown",
   "metadata": {},
   "source": [
    "## 4.2 Introduction<a id='4.2_Introduction'></a>"
   ]
  },
  {
   "cell_type": "markdown",
   "metadata": {},
   "source": [
    "In preceding notebooks, performed preliminary assessments of data quality and refined the question to be answered. The detecting the normal ecgs was the primary aim. \n",
    "\n",
    "In this notebook we'll start to build machine learning models. The first model is a baseline performance comparitor for any subsequent model. Then, models are built and the process of efficiently and robustly creating and assessing models against it will be performed. "
   ]
  },
  {
   "cell_type": "markdown",
   "metadata": {},
   "source": [
    "## 4.3 Imports<a id='4.3_Imports'></a>"
   ]
  },
  {
   "cell_type": "code",
   "execution_count": 1,
   "metadata": {},
   "outputs": [
    {
     "name": "stderr",
     "output_type": "stream",
     "text": [
      "In c:\\Users\\armag\\Anaconda3\\lib\\site-packages\\matplotlib\\mpl-data\\stylelib\\_classic_test.mplstyle: \n",
      "The text.latex.preview rcparam was deprecated in Matplotlib 3.3 and will be removed two minor releases later.\n",
      "In c:\\Users\\armag\\Anaconda3\\lib\\site-packages\\matplotlib\\mpl-data\\stylelib\\_classic_test.mplstyle: \n",
      "The mathtext.fallback_to_cm rcparam was deprecated in Matplotlib 3.3 and will be removed two minor releases later.\n",
      "In c:\\Users\\armag\\Anaconda3\\lib\\site-packages\\matplotlib\\mpl-data\\stylelib\\_classic_test.mplstyle: Support for setting the 'mathtext.fallback_to_cm' rcParam is deprecated since 3.3 and will be removed two minor releases later; use 'mathtext.fallback : 'cm' instead.\n",
      "In c:\\Users\\armag\\Anaconda3\\lib\\site-packages\\matplotlib\\mpl-data\\stylelib\\_classic_test.mplstyle: \n",
      "The validate_bool_maybe_none function was deprecated in Matplotlib 3.3 and will be removed two minor releases later.\n",
      "In c:\\Users\\armag\\Anaconda3\\lib\\site-packages\\matplotlib\\mpl-data\\stylelib\\_classic_test.mplstyle: \n",
      "The savefig.jpeg_quality rcparam was deprecated in Matplotlib 3.3 and will be removed two minor releases later.\n",
      "In c:\\Users\\armag\\Anaconda3\\lib\\site-packages\\matplotlib\\mpl-data\\stylelib\\_classic_test.mplstyle: \n",
      "The keymap.all_axes rcparam was deprecated in Matplotlib 3.3 and will be removed two minor releases later.\n",
      "In c:\\Users\\armag\\Anaconda3\\lib\\site-packages\\matplotlib\\mpl-data\\stylelib\\_classic_test.mplstyle: \n",
      "The animation.avconv_path rcparam was deprecated in Matplotlib 3.3 and will be removed two minor releases later.\n",
      "In c:\\Users\\armag\\Anaconda3\\lib\\site-packages\\matplotlib\\mpl-data\\stylelib\\_classic_test.mplstyle: \n",
      "The animation.avconv_args rcparam was deprecated in Matplotlib 3.3 and will be removed two minor releases later.\n"
     ]
    }
   ],
   "source": [
    "import pandas as pd\n",
    "import numpy as np\n",
    "import os\n",
    "import pickle\n",
    "import matplotlib.pyplot as plt\n",
    "import seaborn as sns\n",
    "from sklearn import __version__ as sklearn_version\n",
    "from sklearn.decomposition import PCA\n",
    "from sklearn.preprocessing import scale\n",
    "from sklearn.model_selection import train_test_split, cross_validate, GridSearchCV, learning_curve,StratifiedKFold\n",
    "from sklearn.preprocessing import StandardScaler, MinMaxScaler\n",
    "\n",
    "# from sklearn.dummy import DummyClassifier\n",
    "from sklearn.linear_model import LogisticRegression\n",
    "# from sklearn.svm import SVC, LinearSVC\n",
    "\n",
    "from sklearn.neighbors import KNeighborsClassifier\n",
    "# from xgboost import XGBClassifier\n",
    "# from lightgbm import LGBMClassifier\n",
    "# from sklearn.neural_network import MLPClassifier\n",
    "\n",
    "from sklearn.ensemble import RandomForestClassifier\n",
    "from sklearn.metrics import plot_confusion_matrix, f1_score, accuracy_score, precision_score, recall_score, roc_auc_score, roc_curve\n",
    "from sklearn.metrics import classification_report\n",
    "from sklearn.metrics import confusion_matrix\n",
    "from sklearn.metrics import ConfusionMatrixDisplay\n",
    "\n",
    "from sklearn.pipeline import make_pipeline\n",
    "from sklearn.feature_selection import SelectKBest, f_regression, SelectFromModel\n",
    "\n",
    "import datetime\n",
    "\n",
    "from library.sb_utils import save_file"
   ]
  },
  {
   "cell_type": "markdown",
   "metadata": {},
   "source": [
    "## 4.4 Load Data<a id='4.4_Load_Data'></a>"
   ]
  },
  {
   "cell_type": "code",
   "execution_count": 52,
   "metadata": {
    "scrolled": true
   },
   "outputs": [
    {
     "data": {
      "text/html": [
       "<div>\n",
       "<style scoped>\n",
       "    .dataframe tbody tr th:only-of-type {\n",
       "        vertical-align: middle;\n",
       "    }\n",
       "\n",
       "    .dataframe tbody tr th {\n",
       "        vertical-align: top;\n",
       "    }\n",
       "\n",
       "    .dataframe thead th {\n",
       "        text-align: right;\n",
       "    }\n",
       "</style>\n",
       "<table border=\"1\" class=\"dataframe\">\n",
       "  <thead>\n",
       "    <tr style=\"text-align: right;\">\n",
       "      <th></th>\n",
       "      <th>0</th>\n",
       "      <th>1</th>\n",
       "      <th>2</th>\n",
       "      <th>3</th>\n",
       "      <th>4</th>\n",
       "    </tr>\n",
       "  </thead>\n",
       "  <tbody>\n",
       "    <tr>\n",
       "      <th>t0</th>\n",
       "      <td>-0.112522</td>\n",
       "      <td>-1.100878</td>\n",
       "      <td>-0.567088</td>\n",
       "      <td>0.490473</td>\n",
       "      <td>0.800232</td>\n",
       "    </tr>\n",
       "    <tr>\n",
       "      <th>t1</th>\n",
       "      <td>-2.827204</td>\n",
       "      <td>-3.996840</td>\n",
       "      <td>-2.593450</td>\n",
       "      <td>-1.914407</td>\n",
       "      <td>-0.874252</td>\n",
       "    </tr>\n",
       "    <tr>\n",
       "      <th>t2</th>\n",
       "      <td>-3.773897</td>\n",
       "      <td>-4.285843</td>\n",
       "      <td>-3.874230</td>\n",
       "      <td>-3.616364</td>\n",
       "      <td>-2.384761</td>\n",
       "    </tr>\n",
       "    <tr>\n",
       "      <th>t3</th>\n",
       "      <td>-4.349751</td>\n",
       "      <td>-4.506579</td>\n",
       "      <td>-4.584095</td>\n",
       "      <td>-4.318823</td>\n",
       "      <td>-3.973292</td>\n",
       "    </tr>\n",
       "    <tr>\n",
       "      <th>t4</th>\n",
       "      <td>-4.376041</td>\n",
       "      <td>-4.022377</td>\n",
       "      <td>-4.187449</td>\n",
       "      <td>-4.268016</td>\n",
       "      <td>-4.338224</td>\n",
       "    </tr>\n",
       "    <tr>\n",
       "      <th>...</th>\n",
       "      <td>...</td>\n",
       "      <td>...</td>\n",
       "      <td>...</td>\n",
       "      <td>...</td>\n",
       "      <td>...</td>\n",
       "    </tr>\n",
       "    <tr>\n",
       "      <th>t136</th>\n",
       "      <td>0.228077</td>\n",
       "      <td>0.476333</td>\n",
       "      <td>-0.532197</td>\n",
       "      <td>0.990133</td>\n",
       "      <td>0.960304</td>\n",
       "    </tr>\n",
       "    <tr>\n",
       "      <th>t137</th>\n",
       "      <td>0.123431</td>\n",
       "      <td>0.773820</td>\n",
       "      <td>0.321097</td>\n",
       "      <td>1.086798</td>\n",
       "      <td>0.971020</td>\n",
       "    </tr>\n",
       "    <tr>\n",
       "      <th>t138</th>\n",
       "      <td>0.925286</td>\n",
       "      <td>1.119621</td>\n",
       "      <td>0.904227</td>\n",
       "      <td>1.403011</td>\n",
       "      <td>1.614392</td>\n",
       "    </tr>\n",
       "    <tr>\n",
       "      <th>t139</th>\n",
       "      <td>0.193137</td>\n",
       "      <td>-1.436250</td>\n",
       "      <td>-0.421797</td>\n",
       "      <td>-0.383564</td>\n",
       "      <td>1.421456</td>\n",
       "    </tr>\n",
       "    <tr>\n",
       "      <th>Target</th>\n",
       "      <td>1.000000</td>\n",
       "      <td>1.000000</td>\n",
       "      <td>1.000000</td>\n",
       "      <td>1.000000</td>\n",
       "      <td>1.000000</td>\n",
       "    </tr>\n",
       "  </tbody>\n",
       "</table>\n",
       "<p>141 rows × 5 columns</p>\n",
       "</div>"
      ],
      "text/plain": [
       "               0         1         2         3         4\n",
       "t0     -0.112522 -1.100878 -0.567088  0.490473  0.800232\n",
       "t1     -2.827204 -3.996840 -2.593450 -1.914407 -0.874252\n",
       "t2     -3.773897 -4.285843 -3.874230 -3.616364 -2.384761\n",
       "t3     -4.349751 -4.506579 -4.584095 -4.318823 -3.973292\n",
       "t4     -4.376041 -4.022377 -4.187449 -4.268016 -4.338224\n",
       "...          ...       ...       ...       ...       ...\n",
       "t136    0.228077  0.476333 -0.532197  0.990133  0.960304\n",
       "t137    0.123431  0.773820  0.321097  1.086798  0.971020\n",
       "t138    0.925286  1.119621  0.904227  1.403011  1.614392\n",
       "t139    0.193137 -1.436250 -0.421797 -0.383564  1.421456\n",
       "Target  1.000000  1.000000  1.000000  1.000000  1.000000\n",
       "\n",
       "[141 rows x 5 columns]"
      ]
     },
     "execution_count": 52,
     "metadata": {},
     "output_type": "execute_result"
    }
   ],
   "source": [
    "ecg_data = pd.read_csv('../data/ecg_data_step3_features.csv')\n",
    "# ecg_data = pd.read_csv('../data/ecg_data_step3_features_uncorrelated85.csv')\n",
    "\n",
    "ecg_data.head().T"
   ]
  },
  {
   "cell_type": "code",
   "execution_count": 53,
   "metadata": {},
   "outputs": [
    {
     "data": {
      "text/html": [
       "<div>\n",
       "<style scoped>\n",
       "    .dataframe tbody tr th:only-of-type {\n",
       "        vertical-align: middle;\n",
       "    }\n",
       "\n",
       "    .dataframe tbody tr th {\n",
       "        vertical-align: top;\n",
       "    }\n",
       "\n",
       "    .dataframe thead th {\n",
       "        text-align: right;\n",
       "    }\n",
       "</style>\n",
       "<table border=\"1\" class=\"dataframe\">\n",
       "  <thead>\n",
       "    <tr style=\"text-align: right;\">\n",
       "      <th></th>\n",
       "      <th>0</th>\n",
       "      <th>1</th>\n",
       "      <th>2</th>\n",
       "      <th>3</th>\n",
       "      <th>4</th>\n",
       "    </tr>\n",
       "  </thead>\n",
       "  <tbody>\n",
       "    <tr>\n",
       "      <th>t0</th>\n",
       "      <td>-0.112522</td>\n",
       "      <td>-1.100878</td>\n",
       "      <td>-0.567088</td>\n",
       "      <td>0.490473</td>\n",
       "      <td>0.800232</td>\n",
       "    </tr>\n",
       "    <tr>\n",
       "      <th>t1</th>\n",
       "      <td>-2.827204</td>\n",
       "      <td>-3.996840</td>\n",
       "      <td>-2.593450</td>\n",
       "      <td>-1.914407</td>\n",
       "      <td>-0.874252</td>\n",
       "    </tr>\n",
       "    <tr>\n",
       "      <th>t2</th>\n",
       "      <td>-3.773897</td>\n",
       "      <td>-4.285843</td>\n",
       "      <td>-3.874230</td>\n",
       "      <td>-3.616364</td>\n",
       "      <td>-2.384761</td>\n",
       "    </tr>\n",
       "    <tr>\n",
       "      <th>t3</th>\n",
       "      <td>-4.349751</td>\n",
       "      <td>-4.506579</td>\n",
       "      <td>-4.584095</td>\n",
       "      <td>-4.318823</td>\n",
       "      <td>-3.973292</td>\n",
       "    </tr>\n",
       "    <tr>\n",
       "      <th>t4</th>\n",
       "      <td>-4.376041</td>\n",
       "      <td>-4.022377</td>\n",
       "      <td>-4.187449</td>\n",
       "      <td>-4.268016</td>\n",
       "      <td>-4.338224</td>\n",
       "    </tr>\n",
       "    <tr>\n",
       "      <th>...</th>\n",
       "      <td>...</td>\n",
       "      <td>...</td>\n",
       "      <td>...</td>\n",
       "      <td>...</td>\n",
       "      <td>...</td>\n",
       "    </tr>\n",
       "    <tr>\n",
       "      <th>t136</th>\n",
       "      <td>0.228077</td>\n",
       "      <td>0.476333</td>\n",
       "      <td>-0.532197</td>\n",
       "      <td>0.990133</td>\n",
       "      <td>0.960304</td>\n",
       "    </tr>\n",
       "    <tr>\n",
       "      <th>t137</th>\n",
       "      <td>0.123431</td>\n",
       "      <td>0.773820</td>\n",
       "      <td>0.321097</td>\n",
       "      <td>1.086798</td>\n",
       "      <td>0.971020</td>\n",
       "    </tr>\n",
       "    <tr>\n",
       "      <th>t138</th>\n",
       "      <td>0.925286</td>\n",
       "      <td>1.119621</td>\n",
       "      <td>0.904227</td>\n",
       "      <td>1.403011</td>\n",
       "      <td>1.614392</td>\n",
       "    </tr>\n",
       "    <tr>\n",
       "      <th>t139</th>\n",
       "      <td>0.193137</td>\n",
       "      <td>-1.436250</td>\n",
       "      <td>-0.421797</td>\n",
       "      <td>-0.383564</td>\n",
       "      <td>1.421456</td>\n",
       "    </tr>\n",
       "    <tr>\n",
       "      <th>Target</th>\n",
       "      <td>1.000000</td>\n",
       "      <td>1.000000</td>\n",
       "      <td>1.000000</td>\n",
       "      <td>1.000000</td>\n",
       "      <td>1.000000</td>\n",
       "    </tr>\n",
       "  </tbody>\n",
       "</table>\n",
       "<p>141 rows × 5 columns</p>\n",
       "</div>"
      ],
      "text/plain": [
       "               0         1         2         3         4\n",
       "t0     -0.112522 -1.100878 -0.567088  0.490473  0.800232\n",
       "t1     -2.827204 -3.996840 -2.593450 -1.914407 -0.874252\n",
       "t2     -3.773897 -4.285843 -3.874230 -3.616364 -2.384761\n",
       "t3     -4.349751 -4.506579 -4.584095 -4.318823 -3.973292\n",
       "t4     -4.376041 -4.022377 -4.187449 -4.268016 -4.338224\n",
       "...          ...       ...       ...       ...       ...\n",
       "t136    0.228077  0.476333 -0.532197  0.990133  0.960304\n",
       "t137    0.123431  0.773820  0.321097  1.086798  0.971020\n",
       "t138    0.925286  1.119621  0.904227  1.403011  1.614392\n",
       "t139    0.193137 -1.436250 -0.421797 -0.383564  1.421456\n",
       "Target  1.000000  1.000000  1.000000  1.000000  1.000000\n",
       "\n",
       "[141 rows x 5 columns]"
      ]
     },
     "execution_count": 53,
     "metadata": {},
     "output_type": "execute_result"
    }
   ],
   "source": [
    "# ecg_data.Target = ['ABNORMAL' if x == 0.0 else 'NORMAL' for x in ecg_data.Target] \n",
    "# ecg_data = ecg_data[['t0','t1','t6','t7','t139', 'Target']]\n",
    "ecg_data.Target = ecg_data.Target.astype('int')\n",
    "ecg_data.head().T"
   ]
  },
  {
   "cell_type": "markdown",
   "metadata": {},
   "source": [
    "## 4.5 Train/Test Split<a id='4.5_Train/Test_Split'></a>"
   ]
  },
  {
   "cell_type": "code",
   "execution_count": 54,
   "metadata": {},
   "outputs": [
    {
     "data": {
      "text/plain": [
       "1    0.584034\n",
       "0    0.415966\n",
       "Name: Target, dtype: float64"
      ]
     },
     "execution_count": 54,
     "metadata": {},
     "output_type": "execute_result"
    }
   ],
   "source": [
    "# check if the dataset is balanced\n",
    "ecg_data.Target.value_counts(normalize=True)"
   ]
  },
  {
   "cell_type": "code",
   "execution_count": 55,
   "metadata": {},
   "outputs": [],
   "source": [
    "X_train, X_test, y_train, y_test = train_test_split(ecg_data.drop(columns='Target'), \n",
    "                                                    ecg_data.Target, test_size=0.2,\n",
    "                                                    stratify= ecg_data.Target,random_state=47)\n",
    "\n",
    "# X_train, X_val, y_train, y_val = train_test_split(X_train, \n",
    "#                                                     y_train, test_size=0.2,\n",
    "#                                                     stratify= y_train,random_state=47)\n",
    "\n",
    "\n",
    "# X_train, X_test, y_train, y_test \n",
    "#     = train_test_split(X, y, test_size=0.2, random_state=1)\n",
    "\n",
    "#  X_train, X_val, y_train, y_val \n",
    "#     = train_test_split(X_train, y_train, test_size=0.25, random_state=1) # 0.25 x 0.8 = 0.2\n"
   ]
  },
  {
   "cell_type": "code",
   "execution_count": 56,
   "metadata": {},
   "outputs": [
    {
     "data": {
      "text/plain": [
       "((3998, 140), (3998,), (1000, 140), (1000,))"
      ]
     },
     "execution_count": 56,
     "metadata": {},
     "output_type": "execute_result"
    }
   ],
   "source": [
    "X_train.shape, y_train.shape, X_test.shape,  y_test.shape"
   ]
  },
  {
   "cell_type": "markdown",
   "metadata": {},
   "source": [
    "## 4.6 Scaling data<a id='4.6_Scaling_data'></a>"
   ]
  },
  {
   "cell_type": "code",
   "execution_count": 57,
   "metadata": {},
   "outputs": [],
   "source": [
    "# https://towardsdatascience.com/data-leakage-in-machine-learning-6161c167e8ba\n",
    "# https://stats.stackexchange.com/questions/569024/when-we-use-standardscaler-in-pipeline-with-gridsearchcv-does-it-automaticall\n",
    "\n",
    "def scale_data(Scaler,X_train, X_test):\n",
    "    sc = Scaler\n",
    "    X_train = sc.fit_transform(X_train)\n",
    "    X_test = sc.transform(X_test)\n",
    "    return X_train, X_test\n",
    "\n",
    "# X_train, X_test = scale_data(StandardScaler(),X_train, X_test )"
   ]
  },
  {
   "cell_type": "markdown",
   "metadata": {},
   "source": [
    "## 4.7 Models<a id='4.7_Models'></a>"
   ]
  },
  {
   "cell_type": "code",
   "execution_count": 100,
   "metadata": {},
   "outputs": [],
   "source": [
    "# Show model's performance\n",
    "\n",
    "def model_results(model, y_train, y_tr_pred, y_test, y_te_pred, show_training_result=True ):\n",
    "\n",
    "    print( model)\n",
    "    print('-------------------------------------')\n",
    "    if show_training_result:\n",
    "        print(\"Classification Report for Training Data\")\n",
    "        print(classification_report(y_train, y_tr_pred, target_names=['ABNORMAL','NORMAL']))\n",
    "    print('-------------------------------------')\n",
    "    print(\"Classification Report for Test Data\")\n",
    "    print(classification_report(y_test, y_te_pred, target_names=['ABNORMAL','NORMAL']))\n",
    "\n",
    "\n",
    "        \n"
   ]
  },
  {
   "cell_type": "code",
   "execution_count": null,
   "metadata": {},
   "outputs": [],
   "source": [
    "# Plot Model's ROC\n",
    "\n",
    "def plot_ROC(model,X, y, title_method ):\n",
    "    \n",
    "    logit_roc_auc = roc_auc_score(y, model.predict(X))\n",
    "    fpr, tpr, thresholds = roc_curve(y, model.predict_proba(X)[:,1])\n",
    "    plt.figure()\n",
    "    plt.plot(fpr, tpr, label='{} (area = {:2.2%})'.format(title_method,logit_roc_auc))\n",
    "    plt.plot([0, 1], [0, 1],'r--')\n",
    "    plt.xlim([0.0, 1.0])\n",
    "    plt.ylim([0.0, 1.05])\n",
    "    plt.xlabel('False Positive Rate')\n",
    "    plt.ylabel('True Positive Rate')\n",
    "    plt.title('Receiver operating characteristic')\n",
    "    plt.legend(loc=\"lower right\")\n",
    "    plt.savefig('Log_ROC')\n",
    "    plt.show()"
   ]
  },
  {
   "cell_type": "code",
   "execution_count": 58,
   "metadata": {},
   "outputs": [],
   "source": [
    "#  train and test a model \n",
    "\n",
    "def train_test_model(model, grid_params, X_train, y_train, X_test, y_test, model_name):\n",
    "    pipe = make_pipeline(\n",
    "    StandardScaler(),\n",
    "    model\n",
    "    )\n",
    "\n",
    "    rskf = StratifiedKFold(n_splits = 5, random_state = 42, shuffle=False)\n",
    "    model_grid_cv = GridSearchCV(pipe, param_grid=grid_params, cv=rskf, n_jobs=-1)\n",
    "    # print(model_grid_cv.get_params().keys())\n",
    "    # print(model_grid_cv)\n",
    "    model_grid_cv.fit(X_train, y_train)\n",
    "    \n",
    "    y_tr_pred = model_grid_cv.predict(X_train)\n",
    "    y_te_pred = model_grid_cv.predict(X_test)\n",
    "    \n",
    "\n",
    "\n",
    "    if model_name in ['Random Forest', 'K_Neighbors'] :\n",
    "        show_training_result = False\n",
    "    else:\n",
    "        show_training_result= True\n",
    "    model_results(model_name, y_train, y_tr_pred, y_test, y_te_pred,show_training_result )  \n",
    "    plot_ROC(model_grid_cv, X_test, y_test, model_name)\n",
    "\n",
    "    row_model = {'model_name':model_name, 'Accuracy on training data':accuracy_score(y_tr_pred, y_train), 'Accuracy on test data':accuracy_score(y_te_pred, y_test),\n",
    "'Precision score on training data':precision_score(y_train, y_tr_pred), 'Precision score  on test data':precision_score( y_test, y_te_pred), \n",
    "'Recall score on training data':recall_score(y_train, y_tr_pred), 'Recall score  on test data':recall_score( y_test, y_te_pred), \n",
    "'F1 score on training data':f1_score(y_train, y_tr_pred), 'F1 score  on test data':f1_score( y_test, y_te_pred), \n",
    "'Classification Report for Training Data':classification_report(y_train, y_tr_pred, target_names=['ABNORMAL','NORMAL']), \n",
    "'Classification Report for Test Data':classification_report(y_test, y_te_pred, target_names=['ABNORMAL','NORMAL']), \n",
    "'best_params_':model_grid_cv.best_params_\n",
    "\n",
    "    }\n",
    "    return(row_model) \n",
    "\n"
   ]
  },
  {
   "cell_type": "code",
   "execution_count": 102,
   "metadata": {},
   "outputs": [
    {
     "ename": "ModuleNotFoundError",
     "evalue": "No module named 'diogenes'",
     "output_type": "error",
     "traceback": [
      "\u001b[1;31m---------------------------------------------------------------------------\u001b[0m",
      "\u001b[1;31mModuleNotFoundError\u001b[0m                       Traceback (most recent call last)",
      "\u001b[1;32m<ipython-input-102-32577717fe2f>\u001b[0m in \u001b[0;36m<module>\u001b[1;34m\u001b[0m\n\u001b[0;32m      1\u001b[0m \u001b[1;31m# pip install diogenes\u001b[0m\u001b[1;33m\u001b[0m\u001b[1;33m\u001b[0m\u001b[1;33m\u001b[0m\u001b[0m\n\u001b[1;32m----> 2\u001b[1;33m \u001b[1;32mimport\u001b[0m \u001b[0mdiogenes\u001b[0m\u001b[1;33m\u001b[0m\u001b[1;33m\u001b[0m\u001b[0m\n\u001b[0m",
      "\u001b[1;31mModuleNotFoundError\u001b[0m: No module named 'diogenes'"
     ]
    }
   ],
   "source": [
    "# pip install diogenes\n",
    "import diogenes\n"
   ]
  },
  {
   "cell_type": "code",
   "execution_count": null,
   "metadata": {},
   "outputs": [],
   "source": [
    "# https://www.programcreek.com/python/?code=dssg%2Fdiogenes%2Fdiogenes-master%2Ftests%2Ftest_grid_search.py#\n",
    "# http://dssg-diogenes.github.io/diogenes/doc/_build/html/user_guide/grid_search.html\n",
    "import diogenes.grid_search as per\n",
    "import diogenes.display as dsp\n",
    "\n",
    "def test_slice_on_dimension(self):\n",
    "        \n",
    "        y = ecg_data.Target\n",
    "        M = ecg_data\n",
    "        clfs = [{'clf': RandomForestClassifier, \n",
    "                 'n_estimators': [10, 100], \n",
    "                 'max_depth': [1, 10],\n",
    "                 'random_state': [0]}\n",
    "                 ]        \n",
    "        subsets = [{'subset': per.SubsetRandomRowsActualDistribution, \n",
    "                    'subset_size': [20, 40, 60, 80, 100],\n",
    "                    'random_state': [0]}]\n",
    "        cvs = [{'cv': StratifiedKFold}]\n",
    "        exp = per.Experiment(M, y, clfs, subsets, cvs)\n",
    "        result = [str(trial) for trial in exp.slice_on_dimension(\n",
    "                per.CLF, \n",
    "                RandomForestClassifier).trials]\n",
    "        self.__compare_to_ref_pkl(result, 'slice_on_dimension_clf')\n",
    "        result = [str(trial) for trial  in exp.slice_on_dimension(\n",
    "                per.SUBSET_PARAMS, \n",
    "                {'subset_size': 60}).trials]\n",
    "        self.__compare_to_ref_pkl(result, 'slice_on_dimension_subset_params') "
   ]
  },
  {
   "cell_type": "code",
   "execution_count": 59,
   "metadata": {},
   "outputs": [
    {
     "name": "stderr",
     "output_type": "stream",
     "text": [
      "c:\\Users\\armag\\Anaconda3\\lib\\site-packages\\sklearn\\model_selection\\_split.py:297: FutureWarning: Setting a random_state has no effect since shuffle is False. This will raise an error in 0.24. You should leave random_state to its default (None), or set shuffle=True.\n",
      "  FutureWarning\n"
     ]
    },
    {
     "name": "stdout",
     "output_type": "stream",
     "text": [
      "Logistic Regression\n",
      "-------------------------------------\n",
      "Classification Report for Training Data\n",
      "              precision    recall  f1-score   support\n",
      "\n",
      "    ABNORMAL       0.99      0.99      0.99      1663\n",
      "      NORMAL       0.99      0.99      0.99      2335\n",
      "\n",
      "    accuracy                           0.99      3998\n",
      "   macro avg       0.99      0.99      0.99      3998\n",
      "weighted avg       0.99      0.99      0.99      3998\n",
      "\n",
      "-------------------------------------\n",
      "Classification Report for Test Data\n",
      "              precision    recall  f1-score   support\n",
      "\n",
      "    ABNORMAL       0.99      0.98      0.98       416\n",
      "      NORMAL       0.98      0.99      0.99       584\n",
      "\n",
      "    accuracy                           0.98      1000\n",
      "   macro avg       0.98      0.98      0.98      1000\n",
      "weighted avg       0.98      0.98      0.98      1000\n",
      "\n"
     ]
    },
    {
     "data": {
      "image/png": "[encoded data removed]",
      "text/plain": [
       "<Figure size 432x288 with 1 Axes>"
      ]
     },
     "metadata": {
      "needs_background": "light"
     },
     "output_type": "display_data"
    },
    {
     "name": "stderr",
     "output_type": "stream",
     "text": [
      "c:\\Users\\armag\\Anaconda3\\lib\\site-packages\\sklearn\\model_selection\\_split.py:297: FutureWarning: Setting a random_state has no effect since shuffle is False. This will raise an error in 0.24. You should leave random_state to its default (None), or set shuffle=True.\n",
      "  FutureWarning\n"
     ]
    },
    {
     "name": "stdout",
     "output_type": "stream",
     "text": [
      "Random Forest\n",
      "-------------------------------------\n",
      "-------------------------------------\n",
      "Classification Report for Test Data\n",
      "              precision    recall  f1-score   support\n",
      "\n",
      "    ABNORMAL       1.00      0.98      0.99       416\n",
      "      NORMAL       0.99      1.00      0.99       584\n",
      "\n",
      "    accuracy                           0.99      1000\n",
      "   macro avg       0.99      0.99      0.99      1000\n",
      "weighted avg       0.99      0.99      0.99      1000\n",
      "\n"
     ]
    },
    {
     "data": {
      "image/png": "[encoded data removed]",
      "text/plain": [
       "<Figure size 432x288 with 1 Axes>"
      ]
     },
     "metadata": {
      "needs_background": "light"
     },
     "output_type": "display_data"
    },
    {
     "name": "stderr",
     "output_type": "stream",
     "text": [
      "c:\\Users\\armag\\Anaconda3\\lib\\site-packages\\sklearn\\model_selection\\_split.py:297: FutureWarning: Setting a random_state has no effect since shuffle is False. This will raise an error in 0.24. You should leave random_state to its default (None), or set shuffle=True.\n",
      "  FutureWarning\n"
     ]
    },
    {
     "name": "stdout",
     "output_type": "stream",
     "text": [
      "K_Neighbors\n",
      "-------------------------------------\n",
      "-------------------------------------\n",
      "Classification Report for Test Data\n",
      "              precision    recall  f1-score   support\n",
      "\n",
      "    ABNORMAL       0.99      0.99      0.99       416\n",
      "      NORMAL       0.99      0.99      0.99       584\n",
      "\n",
      "    accuracy                           0.99      1000\n",
      "   macro avg       0.99      0.99      0.99      1000\n",
      "weighted avg       0.99      0.99      0.99      1000\n",
      "\n"
     ]
    },
    {
     "data": {
      "image/png": "[encoded data removed]",
      "text/plain": [
       "<Figure size 432x288 with 1 Axes>"
      ]
     },
     "metadata": {
      "needs_background": "light"
     },
     "output_type": "display_data"
    }
   ],
   "source": [
    "# define 3 models LogisticRegression, RandomForestClassifier, and KNeighborsClassifier and their parameters\n",
    "params = [\n",
    "    {'classifier' : [LogisticRegression(random_state=42)], 'model_name' : ['Logistic Regression'],\n",
    "    'param_grid': { 'logisticregression__penalty' : ['l1', 'l2', None], 'logisticregression__C' : np.logspace(-3,3,7), 'logisticregression__solver' : ['newton-cg', 'lbfgs', 'liblinear']}},\n",
    "    {'classifier' : [RandomForestClassifier(random_state=42)], 'model_name' : ['Random Forest'],\n",
    "    'param_grid': { 'randomforestclassifier__n_estimators' : list(range(10,100,200)), 'randomforestclassifier__max_depth' : [4,5,6,7,8], 'randomforestclassifier__criterion' :['gini', 'entropy']}}, \n",
    "    {'classifier' : [KNeighborsClassifier()], 'model_name' : ['K_Neighbors'],\n",
    "    'param_grid': { 'kneighborsclassifier__weights': ['uniform','distance'],'kneighborsclassifier__n_neighbors': [2]}}\n",
    "]\n",
    "\n",
    "\n",
    "# define a dataframe to save performance metrics\n",
    "df_results = pd.DataFrame(columns=['model_name', 'Accuracy on training data', 'Accuracy on training data',\n",
    "'Precision score on training data', 'Precision score  on test data', \n",
    "'Recall score on training data', 'Recall score  on test data', \n",
    "'F1 score on training data', 'F1 score  on test data', \n",
    "'Classification Report for Training Data', \n",
    "'Classification Report for Test Data', \n",
    "'best_params_'])\n",
    "\n",
    "# train and test models\n",
    "for model_params in params:\n",
    "    model = model_params['classifier'][0]\n",
    "    param_grid = model_params['param_grid']\n",
    "    model_name = model_params['model_name'][0]\n",
    "    result = train_test_model(model, param_grid, X_train, y_train, X_test, y_test, model_name)\n",
    "    \n",
    "    df_results.loc[len(df_results.index)] = result\n"
   ]
  },
  {
   "cell_type": "code",
   "execution_count": 51,
   "metadata": {},
   "outputs": [
    {
     "data": {
      "text/html": [
       "<div>\n",
       "<style scoped>\n",
       "    .dataframe tbody tr th:only-of-type {\n",
       "        vertical-align: middle;\n",
       "    }\n",
       "\n",
       "    .dataframe tbody tr th {\n",
       "        vertical-align: top;\n",
       "    }\n",
       "\n",
       "    .dataframe thead th {\n",
       "        text-align: right;\n",
       "    }\n",
       "</style>\n",
       "<table border=\"1\" class=\"dataframe\">\n",
       "  <thead>\n",
       "    <tr style=\"text-align: right;\">\n",
       "      <th></th>\n",
       "      <th>model_name</th>\n",
       "      <th>Accuracy on training data</th>\n",
       "      <th>Accuracy on training data</th>\n",
       "      <th>Precision score on training data</th>\n",
       "      <th>Precision score  on test data</th>\n",
       "      <th>Recall score on training data</th>\n",
       "      <th>Recall score  on test data</th>\n",
       "      <th>F1 score on training data</th>\n",
       "      <th>F1 score  on test data</th>\n",
       "      <th>Classification Report for Training Data</th>\n",
       "      <th>Classification Report for Test Data</th>\n",
       "      <th>best_params_</th>\n",
       "    </tr>\n",
       "  </thead>\n",
       "  <tbody>\n",
       "    <tr>\n",
       "      <th>0</th>\n",
       "      <td>Logistic Regression</td>\n",
       "      <td>0.992496</td>\n",
       "      <td>0.992496</td>\n",
       "      <td>0.992311</td>\n",
       "      <td>0.984720</td>\n",
       "      <td>0.994861</td>\n",
       "      <td>0.993151</td>\n",
       "      <td>0.993584</td>\n",
       "      <td>0.988917</td>\n",
       "      <td>precision    recall  f1-score   ...</td>\n",
       "      <td>precision    recall  f1-score   ...</td>\n",
       "      <td>{'logisticregression__C': 10.0, 'logisticregre...</td>\n",
       "    </tr>\n",
       "    <tr>\n",
       "      <th>1</th>\n",
       "      <td>Random Forest</td>\n",
       "      <td>0.997749</td>\n",
       "      <td>0.997749</td>\n",
       "      <td>0.997434</td>\n",
       "      <td>0.986441</td>\n",
       "      <td>0.998715</td>\n",
       "      <td>0.996575</td>\n",
       "      <td>0.998074</td>\n",
       "      <td>0.991482</td>\n",
       "      <td>precision    recall  f1-score   ...</td>\n",
       "      <td>precision    recall  f1-score   ...</td>\n",
       "      <td>{'randomforestclassifier__criterion': 'entropy...</td>\n",
       "    </tr>\n",
       "    <tr>\n",
       "      <th>2</th>\n",
       "      <td>K_Neighbors</td>\n",
       "      <td>0.997749</td>\n",
       "      <td>0.997749</td>\n",
       "      <td>1.000000</td>\n",
       "      <td>0.986441</td>\n",
       "      <td>0.996146</td>\n",
       "      <td>0.996575</td>\n",
       "      <td>0.998069</td>\n",
       "      <td>0.991482</td>\n",
       "      <td>precision    recall  f1-score   ...</td>\n",
       "      <td>precision    recall  f1-score   ...</td>\n",
       "      <td>{'kneighborsclassifier__n_neighbors': 2, 'knei...</td>\n",
       "    </tr>\n",
       "  </tbody>\n",
       "</table>\n",
       "</div>"
      ],
      "text/plain": [
       "            model_name  Accuracy on training data  Accuracy on training data  \\\n",
       "0  Logistic Regression                   0.992496                   0.992496   \n",
       "1        Random Forest                   0.997749                   0.997749   \n",
       "2          K_Neighbors                   0.997749                   0.997749   \n",
       "\n",
       "   Precision score on training data  Precision score  on test data  \\\n",
       "0                          0.992311                       0.984720   \n",
       "1                          0.997434                       0.986441   \n",
       "2                          1.000000                       0.986441   \n",
       "\n",
       "   Recall score on training data  Recall score  on test data  \\\n",
       "0                       0.994861                    0.993151   \n",
       "1                       0.998715                    0.996575   \n",
       "2                       0.996146                    0.996575   \n",
       "\n",
       "   F1 score on training data  F1 score  on test data  \\\n",
       "0                   0.993584                0.988917   \n",
       "1                   0.998074                0.991482   \n",
       "2                   0.998069                0.991482   \n",
       "\n",
       "             Classification Report for Training Data  \\\n",
       "0                precision    recall  f1-score   ...   \n",
       "1                precision    recall  f1-score   ...   \n",
       "2                precision    recall  f1-score   ...   \n",
       "\n",
       "                 Classification Report for Test Data  \\\n",
       "0                precision    recall  f1-score   ...   \n",
       "1                precision    recall  f1-score   ...   \n",
       "2                precision    recall  f1-score   ...   \n",
       "\n",
       "                                        best_params_  \n",
       "0  {'logisticregression__C': 10.0, 'logisticregre...  \n",
       "1  {'randomforestclassifier__criterion': 'entropy...  \n",
       "2  {'kneighborsclassifier__n_neighbors': 2, 'knei...  "
      ]
     },
     "execution_count": 51,
     "metadata": {},
     "output_type": "execute_result"
    }
   ],
   "source": [
    "df_results"
   ]
  },
  {
   "cell_type": "code",
   "execution_count": 26,
   "metadata": {},
   "outputs": [
    {
     "name": "stdout",
     "output_type": "stream",
     "text": [
      "Requirement already satisfied: missingno in c:\\users\\armag\\anaconda3\\lib\\site-packages (0.5.1)\n",
      "Requirement already satisfied: numpy in c:\\users\\armag\\anaconda3\\lib\\site-packages (from missingno) (1.21.5)\n",
      "Requirement already satisfied: scipy in c:\\users\\armag\\anaconda3\\lib\\site-packages (from missingno) (1.7.3)\n",
      "Requirement already satisfied: matplotlib in c:\\users\\armag\\anaconda3\\lib\\site-packages (from missingno) (3.3.2)\n",
      "Requirement already satisfied: seaborn in c:\\users\\armag\\anaconda3\\lib\\site-packages (from missingno) (0.11.2)\n",
      "Requirement already satisfied: cycler>=0.10 in c:\\users\\armag\\anaconda3\\lib\\site-packages (from matplotlib->missingno) (0.10.0)\n",
      "Requirement already satisfied: certifi>=2020.06.20 in c:\\users\\armag\\anaconda3\\lib\\site-packages (from matplotlib->missingno) (2020.6.20)\n",
      "Requirement already satisfied: kiwisolver>=1.0.1 in c:\\users\\armag\\anaconda3\\lib\\site-packages (from matplotlib->missingno) (1.1.0)\n",
      "Requirement already satisfied: pyparsing!=2.0.4,!=2.1.2,!=2.1.6,>=2.0.3 in c:\\users\\armag\\anaconda3\\lib\\site-packages (from matplotlib->missingno) (2.4.2)\n",
      "Requirement already satisfied: pillow>=6.2.0 in c:\\users\\armag\\anaconda3\\lib\\site-packages (from matplotlib->missingno) (6.2.0)\n",
      "Requirement already satisfied: python-dateutil>=2.1 in c:\\users\\armag\\anaconda3\\lib\\site-packages (from matplotlib->missingno) (2.8.2)\n",
      "Requirement already satisfied: pandas>=0.23 in c:\\users\\armag\\anaconda3\\lib\\site-packages (from seaborn->missingno) (1.1.1)\n",
      "Requirement already satisfied: six in c:\\users\\armag\\anaconda3\\lib\\site-packages (from cycler>=0.10->matplotlib->missingno) (1.12.0)\n",
      "Requirement already satisfied: setuptools in c:\\users\\armag\\anaconda3\\lib\\site-packages (from kiwisolver>=1.0.1->matplotlib->missingno) (60.5.0)\n",
      "Requirement already satisfied: pytz>=2017.2 in c:\\users\\armag\\anaconda3\\lib\\site-packages (from pandas>=0.23->seaborn->missingno) (2019.3)\n",
      "Note: you may need to restart the kernel to use updated packages.\n"
     ]
    },
    {
     "name": "stderr",
     "output_type": "stream",
     "text": [
      "WARNING: Ignoring invalid distribution -umpy (c:\\users\\armag\\anaconda3\\lib\\site-packages)\n",
      "WARNING: Ignoring invalid distribution -cipy (c:\\users\\armag\\anaconda3\\lib\\site-packages)\n",
      "WARNING: Ignoring invalid distribution -atplotlib (c:\\users\\armag\\anaconda3\\lib\\site-packages)\n",
      "WARNING: Ignoring invalid distribution -umpy (c:\\users\\armag\\anaconda3\\lib\\site-packages)\n",
      "WARNING: Ignoring invalid distribution -cipy (c:\\users\\armag\\anaconda3\\lib\\site-packages)\n",
      "WARNING: Ignoring invalid distribution -atplotlib (c:\\users\\armag\\anaconda3\\lib\\site-packages)\n",
      "WARNING: Ignoring invalid distribution -umpy (c:\\users\\armag\\anaconda3\\lib\\site-packages)\n",
      "WARNING: Ignoring invalid distribution -cipy (c:\\users\\armag\\anaconda3\\lib\\site-packages)\n",
      "WARNING: Ignoring invalid distribution -atplotlib (c:\\users\\armag\\anaconda3\\lib\\site-packages)\n",
      "WARNING: Ignoring invalid distribution -umpy (c:\\users\\armag\\anaconda3\\lib\\site-packages)\n",
      "WARNING: Ignoring invalid distribution -cipy (c:\\users\\armag\\anaconda3\\lib\\site-packages)\n",
      "WARNING: Ignoring invalid distribution -atplotlib (c:\\users\\armag\\anaconda3\\lib\\site-packages)\n",
      "WARNING: Ignoring invalid distribution -umpy (c:\\users\\armag\\anaconda3\\lib\\site-packages)\n",
      "WARNING: Ignoring invalid distribution -cipy (c:\\users\\armag\\anaconda3\\lib\\site-packages)\n",
      "WARNING: Ignoring invalid distribution -atplotlib (c:\\users\\armag\\anaconda3\\lib\\site-packages)\n",
      "WARNING: Ignoring invalid distribution -umpy (c:\\users\\armag\\anaconda3\\lib\\site-packages)\n",
      "WARNING: Ignoring invalid distribution -cipy (c:\\users\\armag\\anaconda3\\lib\\site-packages)\n",
      "WARNING: Ignoring invalid distribution -atplotlib (c:\\users\\armag\\anaconda3\\lib\\site-packages)\n"
     ]
    }
   ],
   "source": [
    "# pip install missingno"
   ]
  },
  {
   "cell_type": "code",
   "execution_count": 41,
   "metadata": {},
   "outputs": [],
   "source": [
    "# https://www.quora.com/How-do-I-apply-supervised-learning-methods-to-time-series-classification\n",
    "\n",
    "ecg_data1 = ecg_data.copy()\n",
    "ecg_data = (ecg_data[ecg_data.columns[:-1]]+10).apply(np.log).join(ecg_data['Target'])\n",
    "# print(ecg_data.shape, ecg_data1.shape)\n",
    "# print(ecg_data1.head())\n"
   ]
  },
  {
   "cell_type": "code",
   "execution_count": 42,
   "metadata": {},
   "outputs": [
    {
     "data": {
      "text/plain": [
       "<AxesSubplot:>"
      ]
     },
     "execution_count": 42,
     "metadata": {},
     "output_type": "execute_result"
    },
    {
     "data": {
      "image/png": "[encoded data removed]",
      "text/plain": [
       "<Figure size 1800x720 with 2 Axes>"
      ]
     },
     "metadata": {
      "needs_background": "light"
     },
     "output_type": "display_data"
    }
   ],
   "source": [
    "import missingno as msno\n",
    "  \n",
    "\n",
    "# Visualize missing values as a matrix\n",
    "msno.matrix(ecg_data)\n"
   ]
  },
  {
   "cell_type": "code",
   "execution_count": 43,
   "metadata": {},
   "outputs": [
    {
     "data": {
      "text/plain": [
       "0"
      ]
     },
     "execution_count": 43,
     "metadata": {},
     "output_type": "execute_result"
    }
   ],
   "source": [
    "ecg_data['t139'].isnull().sum()"
   ]
  },
  {
   "cell_type": "code",
   "execution_count": 45,
   "metadata": {},
   "outputs": [
    {
     "name": "stdout",
     "output_type": "stream",
     "text": [
      "(4998, 141)\n"
     ]
    }
   ],
   "source": [
    "ecg_data = ecg_data.dropna()\n",
    "print(ecg_data.shape)"
   ]
  },
  {
   "cell_type": "code",
   "execution_count": 46,
   "metadata": {},
   "outputs": [
    {
     "name": "stdout",
     "output_type": "stream",
     "text": [
      "(3998, 140) (3998,) (1000, 140) (1000,)\n"
     ]
    }
   ],
   "source": [
    "X_train, X_test, y_train, y_test = train_test_split(ecg_data.drop(columns='Target'), \n",
    "                                                    ecg_data.Target, test_size=0.2,\n",
    "                                                    stratify= ecg_data.Target,random_state=47)\n",
    "\n",
    "print(X_train.shape, y_train.shape, X_test.shape,  y_test.shape)"
   ]
  },
  {
   "cell_type": "code",
   "execution_count": 48,
   "metadata": {},
   "outputs": [
    {
     "name": "stderr",
     "output_type": "stream",
     "text": [
      "c:\\Users\\armag\\Anaconda3\\lib\\site-packages\\sklearn\\model_selection\\_split.py:297: FutureWarning: Setting a random_state has no effect since shuffle is False. This will raise an error in 0.24. You should leave random_state to its default (None), or set shuffle=True.\n",
      "  FutureWarning\n"
     ]
    },
    {
     "name": "stdout",
     "output_type": "stream",
     "text": [
      "Logistic Regression\n",
      "-------------------------------------\n",
      "Classification Report for Training Data\n",
      "              precision    recall  f1-score   support\n",
      "\n",
      "    ABNORMAL       0.99      0.99      0.99      1663\n",
      "      NORMAL       0.99      0.99      0.99      2335\n",
      "\n",
      "    accuracy                           0.99      3998\n",
      "   macro avg       0.99      0.99      0.99      3998\n",
      "weighted avg       0.99      0.99      0.99      3998\n",
      "\n",
      "-------------------------------------\n",
      "Classification Report for Test Data\n",
      "              precision    recall  f1-score   support\n",
      "\n",
      "    ABNORMAL       0.99      0.97      0.98       416\n",
      "      NORMAL       0.98      0.99      0.99       584\n",
      "\n",
      "    accuracy                           0.98      1000\n",
      "   macro avg       0.98      0.98      0.98      1000\n",
      "weighted avg       0.98      0.98      0.98      1000\n",
      "\n"
     ]
    },
    {
     "data": {
      "image/png": "[encoded data removed]",
      "text/plain": [
       "<Figure size 432x288 with 1 Axes>"
      ]
     },
     "metadata": {
      "needs_background": "light"
     },
     "output_type": "display_data"
    },
    {
     "name": "stderr",
     "output_type": "stream",
     "text": [
      "c:\\Users\\armag\\Anaconda3\\lib\\site-packages\\sklearn\\model_selection\\_split.py:297: FutureWarning: Setting a random_state has no effect since shuffle is False. This will raise an error in 0.24. You should leave random_state to its default (None), or set shuffle=True.\n",
      "  FutureWarning\n"
     ]
    },
    {
     "name": "stdout",
     "output_type": "stream",
     "text": [
      "Random Forest\n",
      "-------------------------------------\n",
      "-------------------------------------\n",
      "Classification Report for Test Data\n",
      "              precision    recall  f1-score   support\n",
      "\n",
      "    ABNORMAL       1.00      0.98      0.99       416\n",
      "      NORMAL       0.99      1.00      0.99       584\n",
      "\n",
      "    accuracy                           0.99      1000\n",
      "   macro avg       0.99      0.99      0.99      1000\n",
      "weighted avg       0.99      0.99      0.99      1000\n",
      "\n"
     ]
    },
    {
     "data": {
      "image/png": "[encoded data removed]",
      "text/plain": [
       "<Figure size 432x288 with 1 Axes>"
      ]
     },
     "metadata": {
      "needs_background": "light"
     },
     "output_type": "display_data"
    },
    {
     "name": "stderr",
     "output_type": "stream",
     "text": [
      "c:\\Users\\armag\\Anaconda3\\lib\\site-packages\\sklearn\\model_selection\\_split.py:297: FutureWarning: Setting a random_state has no effect since shuffle is False. This will raise an error in 0.24. You should leave random_state to its default (None), or set shuffle=True.\n",
      "  FutureWarning\n"
     ]
    },
    {
     "name": "stdout",
     "output_type": "stream",
     "text": [
      "K_Neighbors\n",
      "-------------------------------------\n",
      "-------------------------------------\n",
      "Classification Report for Test Data\n",
      "              precision    recall  f1-score   support\n",
      "\n",
      "    ABNORMAL       0.99      0.99      0.99       416\n",
      "      NORMAL       0.99      0.99      0.99       584\n",
      "\n",
      "    accuracy                           0.99      1000\n",
      "   macro avg       0.99      0.99      0.99      1000\n",
      "weighted avg       0.99      0.99      0.99      1000\n",
      "\n"
     ]
    },
    {
     "data": {
      "image/png": "[encoded data removed]",
      "text/plain": [
       "<Figure size 432x288 with 1 Axes>"
      ]
     },
     "metadata": {
      "needs_background": "light"
     },
     "output_type": "display_data"
    }
   ],
   "source": [
    "\n",
    "\n",
    "\n",
    "params = [\n",
    "    {'classifier' : [LogisticRegression(random_state=42)], 'model_name' : ['Logistic Regression'],\n",
    "    'param_grid': { 'logisticregression__penalty' : ['l1', 'l2', None], 'logisticregression__C' : np.logspace(-3,3,7), 'logisticregression__solver' : ['newton-cg', 'lbfgs', 'liblinear']}},\n",
    "    {'classifier' : [RandomForestClassifier(random_state=42)], 'model_name' : ['Random Forest'],\n",
    "    'param_grid': { 'randomforestclassifier__n_estimators' : list(range(10,100,200)), 'randomforestclassifier__max_depth' : [4,5,6,7,8], 'randomforestclassifier__criterion' :['gini', 'entropy']}}, \n",
    "    {'classifier' : [KNeighborsClassifier()], 'model_name' : ['K_Neighbors'],\n",
    "    'param_grid': { 'kneighborsclassifier__weights': ['uniform','distance'],'kneighborsclassifier__n_neighbors': [2]}}\n",
    "]\n",
    "\n",
    "\n",
    "\n",
    "# define a dataframe to save performance metrics\n",
    "df_results = pd.DataFrame(columns=['model_name', 'Accuracy on training data', 'Accuracy on training data',\n",
    "'Precision score on training data', 'Precision score  on test data', \n",
    "'Recall score on training data', 'Recall score  on test data', \n",
    "'F1 score on training data', 'F1 score  on test data', \n",
    "'Classification Report for Training Data', \n",
    "'Classification Report for Test Data', \n",
    "'best_params_'])\n",
    "\n",
    "# train and test models\n",
    "for model_params in params:\n",
    "    model = model_params['classifier'][0]\n",
    "    param_grid = model_params['param_grid']\n",
    "    model_name = model_params['model_name'][0]\n",
    "    result = train_test_model(model, param_grid, X_train, y_train, X_test, y_test, model_name)\n",
    "    \n",
    "    df_results.loc[len(df_results.index)] = result"
   ]
  },
  {
   "cell_type": "code",
   "execution_count": null,
   "metadata": {},
   "outputs": [],
   "source": []
  },
  {
   "cell_type": "code",
   "execution_count": null,
   "metadata": {},
   "outputs": [],
   "source": []
  },
  {
   "cell_type": "code",
   "execution_count": null,
   "metadata": {},
   "outputs": [],
   "source": []
  },
  {
   "cell_type": "code",
   "execution_count": null,
   "metadata": {},
   "outputs": [],
   "source": []
  },
  {
   "cell_type": "code",
   "execution_count": 96,
   "metadata": {},
   "outputs": [
    {
     "name": "stdout",
     "output_type": "stream",
     "text": [
      "\n",
      "dataset shape: (4998, 6)\n",
      "\n",
      "columns: Index(['t0', 't1', 't6', 't7', 't139', 'Target'], dtype='object')\n",
      "\n",
      "Corr Target with t0: -0.11475177316753364\n",
      "Corr Target with t1: -0.45502789043540115\n",
      "Corr Target with t6: -0.01520903904661159\n",
      "Corr Target with t7: 0.3262896018178461\n",
      "Corr Target with t139: 0.1515055423016431\n",
      "\n",
      "\n",
      "(3998, 3) (3998,) (1000, 3) (1000,)\n"
     ]
    },
    {
     "name": "stderr",
     "output_type": "stream",
     "text": [
      "c:\\Users\\armag\\Anaconda3\\lib\\site-packages\\sklearn\\model_selection\\_split.py:297: FutureWarning: Setting a random_state has no effect since shuffle is False. This will raise an error in 0.24. You should leave random_state to its default (None), or set shuffle=True.\n",
      "  FutureWarning\n"
     ]
    },
    {
     "name": "stdout",
     "output_type": "stream",
     "text": [
      "Logistic Regression\n",
      "-------------------------------------\n",
      "Classification Report for Training Data\n",
      "              precision    recall  f1-score   support\n",
      "\n",
      "    ABNORMAL       0.74      0.21      0.32      1663\n",
      "      NORMAL       0.63      0.95      0.75      2335\n",
      "\n",
      "    accuracy                           0.64      3998\n",
      "   macro avg       0.68      0.58      0.54      3998\n",
      "weighted avg       0.67      0.64      0.57      3998\n",
      "\n",
      "-------------------------------------\n",
      "Classification Report for Test Data\n",
      "              precision    recall  f1-score   support\n",
      "\n",
      "    ABNORMAL       0.70      0.23      0.34       416\n",
      "      NORMAL       0.63      0.93      0.75       584\n",
      "\n",
      "    accuracy                           0.64      1000\n",
      "   macro avg       0.67      0.58      0.55      1000\n",
      "weighted avg       0.66      0.64      0.58      1000\n",
      "\n"
     ]
    },
    {
     "data": {
      "image/png": "[encoded data removed]",
      "text/plain": [
       "<Figure size 432x288 with 1 Axes>"
      ]
     },
     "metadata": {
      "needs_background": "light"
     },
     "output_type": "display_data"
    },
    {
     "name": "stderr",
     "output_type": "stream",
     "text": [
      "c:\\Users\\armag\\Anaconda3\\lib\\site-packages\\sklearn\\model_selection\\_split.py:297: FutureWarning: Setting a random_state has no effect since shuffle is False. This will raise an error in 0.24. You should leave random_state to its default (None), or set shuffle=True.\n",
      "  FutureWarning\n"
     ]
    },
    {
     "name": "stdout",
     "output_type": "stream",
     "text": [
      "Random Forest\n",
      "-------------------------------------\n",
      "-------------------------------------\n",
      "Classification Report for Test Data\n",
      "              precision    recall  f1-score   support\n",
      "\n",
      "    ABNORMAL       0.70      0.64      0.67       416\n",
      "      NORMAL       0.76      0.80      0.78       584\n",
      "\n",
      "    accuracy                           0.74      1000\n",
      "   macro avg       0.73      0.72      0.72      1000\n",
      "weighted avg       0.73      0.74      0.73      1000\n",
      "\n"
     ]
    },
    {
     "data": {
      "image/png": "[encoded data removed]",
      "text/plain": [
       "<Figure size 432x288 with 1 Axes>"
      ]
     },
     "metadata": {
      "needs_background": "light"
     },
     "output_type": "display_data"
    },
    {
     "name": "stderr",
     "output_type": "stream",
     "text": [
      "c:\\Users\\armag\\Anaconda3\\lib\\site-packages\\sklearn\\model_selection\\_split.py:297: FutureWarning: Setting a random_state has no effect since shuffle is False. This will raise an error in 0.24. You should leave random_state to its default (None), or set shuffle=True.\n",
      "  FutureWarning\n"
     ]
    },
    {
     "name": "stdout",
     "output_type": "stream",
     "text": [
      "K_Neighbors\n",
      "-------------------------------------\n",
      "-------------------------------------\n",
      "Classification Report for Test Data\n",
      "              precision    recall  f1-score   support\n",
      "\n",
      "    ABNORMAL       0.63      0.62      0.63       416\n",
      "      NORMAL       0.73      0.74      0.74       584\n",
      "\n",
      "    accuracy                           0.69      1000\n",
      "   macro avg       0.68      0.68      0.68      1000\n",
      "weighted avg       0.69      0.69      0.69      1000\n",
      "\n"
     ]
    },
    {
     "data": {
      "image/png": "[encoded data removed]",
      "text/plain": [
       "<Figure size 432x288 with 1 Axes>"
      ]
     },
     "metadata": {
      "needs_background": "light"
     },
     "output_type": "display_data"
    }
   ],
   "source": [
    "ecg_data = pd.read_csv('../data/ecg_data_step3_features_uncorrelated85.csv')\n",
    "print('\\ndataset shape:', ecg_data.shape)\n",
    "print('\\ncolumns:', ecg_data.columns)\n",
    "\n",
    "print('\\nCorr Target with t0:', ecg_data['Target'].corr(ecg_data['t0']))\n",
    "print('Corr Target with t1:', ecg_data['Target'].corr(ecg_data['t1']))\n",
    "print('Corr Target with t6:', ecg_data['Target'].corr(ecg_data['t6']))\n",
    "print('Corr Target with t7:', ecg_data['Target'].corr(ecg_data['t7']))\n",
    "print('Corr Target with t139:', ecg_data['Target'].corr(ecg_data['t139']))\n",
    "print('\\n')\n",
    "\n",
    "# print(ecg_data['Target'].corr(ecg_data['t139']))\n",
    "\n",
    "# X_train, X_test, y_train, y_test = train_test_split(ecg_data.drop(columns='Target'), \n",
    "#                                                     ecg_data.Target, test_size=0.2,\n",
    "#                                                     stratify= ecg_data.Target,random_state=47)\n",
    "# 't0',''t6','t7','t139'\n",
    "X_train, X_test, y_train, y_test = train_test_split(ecg_data[['t0','t6','t139']], \n",
    "                                                    ecg_data.Target, test_size=0.2,\n",
    "                                                    stratify= ecg_data.Target,random_state=47)\n",
    "\n",
    "\n",
    "print(X_train.shape, y_train.shape, X_test.shape,  y_test.shape)\n",
    "\n",
    "params = [\n",
    "    {'classifier' : [LogisticRegression(random_state=42)], 'model_name' : ['Logistic Regression'],\n",
    "    'param_grid': { 'logisticregression__penalty' : [ 'l2', None], 'logisticregression__C' : np.logspace(-3,3,7), 'logisticregression__solver' : ['newton-cg', 'lbfgs', 'liblinear']}},\n",
    "    {'classifier' : [RandomForestClassifier(random_state=42)], 'model_name' : ['Random Forest'],\n",
    "    'param_grid': { 'randomforestclassifier__n_estimators' : list(range(10,100,200)), 'randomforestclassifier__max_depth' : [4,5,6,7,8], 'randomforestclassifier__criterion' :['gini', 'entropy']}}, \n",
    "    {'classifier' : [KNeighborsClassifier()], 'model_name' : ['K_Neighbors'],\n",
    "    'param_grid': { 'kneighborsclassifier__weights': ['uniform','distance'],'kneighborsclassifier__n_neighbors': [2]}}\n",
    "]\n",
    "\n",
    "\n",
    "\n",
    "# define a dataframe to save performance metrics\n",
    "df_results = pd.DataFrame(columns=['model_name', 'Accuracy on training data', 'Accuracy on training data',\n",
    "'Precision score on training data', 'Precision score  on test data', \n",
    "'Recall score on training data', 'Recall score  on test data', \n",
    "'F1 score on training data', 'F1 score  on test data', \n",
    "'Classification Report for Training Data', \n",
    "'Classification Report for Test Data', \n",
    "'best_params_'])\n",
    "\n",
    "# train and test models\n",
    "for model_params in params:\n",
    "    model = model_params['classifier'][0]\n",
    "    param_grid = model_params['param_grid']\n",
    "    model_name = model_params['model_name'][0]\n",
    "    result = train_test_model(model, param_grid, X_train, y_train, X_test, y_test, model_name)\n",
    "    \n",
    "    df_results.loc[len(df_results.index)] = result\n"
   ]
  },
  {
   "cell_type": "code",
   "execution_count": 97,
   "metadata": {},
   "outputs": [
    {
     "data": {
      "text/html": [
       "<div>\n",
       "<style scoped>\n",
       "    .dataframe tbody tr th:only-of-type {\n",
       "        vertical-align: middle;\n",
       "    }\n",
       "\n",
       "    .dataframe tbody tr th {\n",
       "        vertical-align: top;\n",
       "    }\n",
       "\n",
       "    .dataframe thead th {\n",
       "        text-align: right;\n",
       "    }\n",
       "</style>\n",
       "<table border=\"1\" class=\"dataframe\">\n",
       "  <thead>\n",
       "    <tr style=\"text-align: right;\">\n",
       "      <th></th>\n",
       "      <th>model_name</th>\n",
       "      <th>Accuracy on training data</th>\n",
       "      <th>Accuracy on training data</th>\n",
       "      <th>Precision score on training data</th>\n",
       "      <th>Precision score  on test data</th>\n",
       "      <th>Recall score on training data</th>\n",
       "      <th>Recall score  on test data</th>\n",
       "      <th>F1 score on training data</th>\n",
       "      <th>F1 score  on test data</th>\n",
       "      <th>Classification Report for Training Data</th>\n",
       "      <th>Classification Report for Test Data</th>\n",
       "      <th>best_params_</th>\n",
       "    </tr>\n",
       "  </thead>\n",
       "  <tbody>\n",
       "    <tr>\n",
       "      <th>0</th>\n",
       "      <td>Logistic Regression</td>\n",
       "      <td>0.639070</td>\n",
       "      <td>0.639070</td>\n",
       "      <td>0.626274</td>\n",
       "      <td>0.628902</td>\n",
       "      <td>0.947323</td>\n",
       "      <td>0.931507</td>\n",
       "      <td>0.754048</td>\n",
       "      <td>0.750863</td>\n",
       "      <td>precision    recall  f1-score   ...</td>\n",
       "      <td>precision    recall  f1-score   ...</td>\n",
       "      <td>{'logisticregression__C': 0.001, 'logisticregr...</td>\n",
       "    </tr>\n",
       "    <tr>\n",
       "      <th>1</th>\n",
       "      <td>Random Forest</td>\n",
       "      <td>0.793397</td>\n",
       "      <td>0.793397</td>\n",
       "      <td>0.805837</td>\n",
       "      <td>0.758065</td>\n",
       "      <td>0.851392</td>\n",
       "      <td>0.804795</td>\n",
       "      <td>0.827988</td>\n",
       "      <td>0.780731</td>\n",
       "      <td>precision    recall  f1-score   ...</td>\n",
       "      <td>precision    recall  f1-score   ...</td>\n",
       "      <td>{'randomforestclassifier__criterion': 'entropy...</td>\n",
       "    </tr>\n",
       "    <tr>\n",
       "      <th>2</th>\n",
       "      <td>K_Neighbors</td>\n",
       "      <td>1.000000</td>\n",
       "      <td>1.000000</td>\n",
       "      <td>1.000000</td>\n",
       "      <td>0.734694</td>\n",
       "      <td>1.000000</td>\n",
       "      <td>0.739726</td>\n",
       "      <td>1.000000</td>\n",
       "      <td>0.737201</td>\n",
       "      <td>precision    recall  f1-score   ...</td>\n",
       "      <td>precision    recall  f1-score   ...</td>\n",
       "      <td>{'kneighborsclassifier__n_neighbors': 2, 'knei...</td>\n",
       "    </tr>\n",
       "  </tbody>\n",
       "</table>\n",
       "</div>"
      ],
      "text/plain": [
       "            model_name  Accuracy on training data  Accuracy on training data  \\\n",
       "0  Logistic Regression                   0.639070                   0.639070   \n",
       "1        Random Forest                   0.793397                   0.793397   \n",
       "2          K_Neighbors                   1.000000                   1.000000   \n",
       "\n",
       "   Precision score on training data  Precision score  on test data  \\\n",
       "0                          0.626274                       0.628902   \n",
       "1                          0.805837                       0.758065   \n",
       "2                          1.000000                       0.734694   \n",
       "\n",
       "   Recall score on training data  Recall score  on test data  \\\n",
       "0                       0.947323                    0.931507   \n",
       "1                       0.851392                    0.804795   \n",
       "2                       1.000000                    0.739726   \n",
       "\n",
       "   F1 score on training data  F1 score  on test data  \\\n",
       "0                   0.754048                0.750863   \n",
       "1                   0.827988                0.780731   \n",
       "2                   1.000000                0.737201   \n",
       "\n",
       "             Classification Report for Training Data  \\\n",
       "0                precision    recall  f1-score   ...   \n",
       "1                precision    recall  f1-score   ...   \n",
       "2                precision    recall  f1-score   ...   \n",
       "\n",
       "                 Classification Report for Test Data  \\\n",
       "0                precision    recall  f1-score   ...   \n",
       "1                precision    recall  f1-score   ...   \n",
       "2                precision    recall  f1-score   ...   \n",
       "\n",
       "                                        best_params_  \n",
       "0  {'logisticregression__C': 0.001, 'logisticregr...  \n",
       "1  {'randomforestclassifier__criterion': 'entropy...  \n",
       "2  {'kneighborsclassifier__n_neighbors': 2, 'knei...  "
      ]
     },
     "execution_count": 97,
     "metadata": {},
     "output_type": "execute_result"
    }
   ],
   "source": [
    "df_results"
   ]
  },
  {
   "cell_type": "markdown",
   "metadata": {},
   "source": [
    "## 4.9 Final Model Selection<a id='4.9_Final_Model_Selection'></a>"
   ]
  },
  {
   "cell_type": "markdown",
   "metadata": {},
   "source": [
    "\n"
   ]
  },
  {
   "cell_type": "markdown",
   "metadata": {},
   "source": [
    "## 4.10 Data quantity assessment<a id='4.10_Data_quantity_assessment'></a>"
   ]
  },
  {
   "cell_type": "markdown",
   "metadata": {},
   "source": [
    "Finally, you need to advise the business whether it needs to undertake further data collection. Would more data be useful? We're often led to believe more data is always good, but gathering data invariably has a cost associated with it. Assess this trade off by seeing how performance varies with differing data set sizes. The `learning_curve` function does this conveniently."
   ]
  },
  {
   "cell_type": "code",
   "execution_count": 67,
   "metadata": {},
   "outputs": [
    {
     "ename": "NameError",
     "evalue": "name 'pipe' is not defined",
     "output_type": "error",
     "traceback": [
      "\u001b[1;31m---------------------------------------------------------------------------\u001b[0m",
      "\u001b[1;31mNameError\u001b[0m                                 Traceback (most recent call last)",
      "\u001b[1;32m<ipython-input-67-14fe34b339ac>\u001b[0m in \u001b[0;36m<module>\u001b[1;34m\u001b[0m\n\u001b[0;32m      1\u001b[0m \u001b[0mfractions\u001b[0m \u001b[1;33m=\u001b[0m \u001b[1;33m[\u001b[0m\u001b[1;36m.2\u001b[0m\u001b[1;33m,\u001b[0m \u001b[1;36m.25\u001b[0m\u001b[1;33m,\u001b[0m \u001b[1;36m.3\u001b[0m\u001b[1;33m,\u001b[0m \u001b[1;36m.35\u001b[0m\u001b[1;33m,\u001b[0m \u001b[1;36m.4\u001b[0m\u001b[1;33m,\u001b[0m \u001b[1;36m.45\u001b[0m\u001b[1;33m,\u001b[0m \u001b[1;36m.5\u001b[0m\u001b[1;33m,\u001b[0m \u001b[1;36m.6\u001b[0m\u001b[1;33m,\u001b[0m \u001b[1;36m.75\u001b[0m\u001b[1;33m,\u001b[0m \u001b[1;36m.8\u001b[0m\u001b[1;33m,\u001b[0m \u001b[1;36m1.0\u001b[0m\u001b[1;33m]\u001b[0m\u001b[1;33m\u001b[0m\u001b[1;33m\u001b[0m\u001b[0m\n\u001b[1;32m----> 2\u001b[1;33m \u001b[0mtrain_size\u001b[0m\u001b[1;33m,\u001b[0m \u001b[0mtrain_scores\u001b[0m\u001b[1;33m,\u001b[0m \u001b[0mtest_scores\u001b[0m \u001b[1;33m=\u001b[0m \u001b[0mlearning_curve\u001b[0m\u001b[1;33m(\u001b[0m\u001b[0mpipe\u001b[0m\u001b[1;33m,\u001b[0m \u001b[0mX_train\u001b[0m\u001b[1;33m,\u001b[0m \u001b[0my_train\u001b[0m\u001b[1;33m,\u001b[0m \u001b[0mtrain_sizes\u001b[0m\u001b[1;33m=\u001b[0m\u001b[0mfractions\u001b[0m\u001b[1;33m)\u001b[0m\u001b[1;33m\u001b[0m\u001b[1;33m\u001b[0m\u001b[0m\n\u001b[0m\u001b[0;32m      3\u001b[0m \u001b[0mtrain_scores_mean\u001b[0m \u001b[1;33m=\u001b[0m \u001b[0mnp\u001b[0m\u001b[1;33m.\u001b[0m\u001b[0mmean\u001b[0m\u001b[1;33m(\u001b[0m\u001b[0mtrain_scores\u001b[0m\u001b[1;33m,\u001b[0m \u001b[0maxis\u001b[0m\u001b[1;33m=\u001b[0m\u001b[1;36m1\u001b[0m\u001b[1;33m)\u001b[0m\u001b[1;33m\u001b[0m\u001b[1;33m\u001b[0m\u001b[0m\n\u001b[0;32m      4\u001b[0m \u001b[0mtrain_scores_std\u001b[0m \u001b[1;33m=\u001b[0m \u001b[0mnp\u001b[0m\u001b[1;33m.\u001b[0m\u001b[0mstd\u001b[0m\u001b[1;33m(\u001b[0m\u001b[0mtrain_scores\u001b[0m\u001b[1;33m,\u001b[0m \u001b[0maxis\u001b[0m\u001b[1;33m=\u001b[0m\u001b[1;36m1\u001b[0m\u001b[1;33m)\u001b[0m\u001b[1;33m\u001b[0m\u001b[1;33m\u001b[0m\u001b[0m\n\u001b[0;32m      5\u001b[0m \u001b[0mtest_scores_mean\u001b[0m \u001b[1;33m=\u001b[0m \u001b[0mnp\u001b[0m\u001b[1;33m.\u001b[0m\u001b[0mmean\u001b[0m\u001b[1;33m(\u001b[0m\u001b[0mtest_scores\u001b[0m\u001b[1;33m,\u001b[0m \u001b[0maxis\u001b[0m\u001b[1;33m=\u001b[0m\u001b[1;36m1\u001b[0m\u001b[1;33m)\u001b[0m\u001b[1;33m\u001b[0m\u001b[1;33m\u001b[0m\u001b[0m\n",
      "\u001b[1;31mNameError\u001b[0m: name 'pipe' is not defined"
     ]
    }
   ],
   "source": [
    "fractions = [.2, .25, .3, .35, .4, .45, .5, .6, .75, .8, 1.0]\n",
    "train_size, train_scores, test_scores = learning_curve(pipe, X_train, y_train, train_sizes=fractions)\n",
    "train_scores_mean = np.mean(train_scores, axis=1)\n",
    "train_scores_std = np.std(train_scores, axis=1)\n",
    "test_scores_mean = np.mean(test_scores, axis=1)\n",
    "test_scores_std = np.std(test_scores, axis=1)"
   ]
  },
  {
   "cell_type": "code",
   "execution_count": null,
   "metadata": {},
   "outputs": [
    {
     "data": {
      "image/png": "[encoded data removed]",
      "text/plain": [
       "<Figure size 720x360 with 1 Axes>"
      ]
     },
     "metadata": {
      "needs_background": "light"
     },
     "output_type": "display_data"
    }
   ],
   "source": [
    "plt.subplots(figsize=(10, 5))\n",
    "plt.errorbar(train_size, test_scores_mean, yerr=test_scores_std)\n",
    "plt.xlabel('Training set size')\n",
    "plt.ylabel('CV scores')\n",
    "plt.title('Cross-validation score as training set size increases');"
   ]
  },
  {
   "cell_type": "markdown",
   "metadata": {},
   "source": [
    "This shows that you seem to have plenty of data. There's an initial rapid improvement in model scores as one would expect, but it's essentially levelled off by around a sample size of 40-50."
   ]
  },
  {
   "cell_type": "markdown",
   "metadata": {},
   "source": [
    "## 4.11 Save best model object<a id='4.10_Save_best_model_object'></a>"
   ]
  },
  {
   "cell_type": "code",
   "execution_count": null,
   "metadata": {},
   "outputs": [],
   "source": [
    "best_model = rf_grid_cv.best_estimator_\n",
    "best_model.version = '1.0'\n",
    "best_model.pandas_version = pd.__version__\n",
    "best_model.numpy_version = np.__version__\n",
    "best_model.sklearn_version = sklearn_version\n",
    "best_model.X_columns = [col for col in X_train.columns]\n",
    "best_model.build_datetime = datetime.datetime.now()"
   ]
  },
  {
   "cell_type": "code",
   "execution_count": null,
   "metadata": {},
   "outputs": [
    {
     "name": "stdout",
     "output_type": "stream",
     "text": [
      "Directory ../models was created.\n",
      "Writing file.  \"../models\\ski_resort_pricing_model.pkl\"\n"
     ]
    }
   ],
   "source": [
    "# save the model\n",
    "\n",
    "modelpath = '../models'\n",
    "save_file(best_model, 'ECG_model.pkl', modelpath)"
   ]
  }
 ],
 "metadata": {
  "kernelspec": {
   "display_name": "Python 3.7.4 ('base')",
   "language": "python",
   "name": "python3"
  },
  "language_info": {
   "codemirror_mode": {
    "name": "ipython",
    "version": 3
   },
   "file_extension": ".py",
   "mimetype": "text/x-python",
   "name": "python",
   "nbconvert_exporter": "python",
   "pygments_lexer": "ipython3",
   "version": "3.7.4 (default, Aug  9 2019, 18:34:13) [MSC v.1915 64 bit (AMD64)]"
  },
  "toc": {
   "base_numbering": 1,
   "nav_menu": {},
   "number_sections": true,
   "sideBar": true,
   "skip_h1_title": false,
   "title_cell": "Table of Contents",
   "title_sidebar": "Contents",
   "toc_cell": false,
   "toc_position": {},
   "toc_section_display": true,
   "toc_window_display": true
  },
  "varInspector": {
   "cols": {
    "lenName": 16,
    "lenType": 16,
    "lenVar": 40
   },
   "kernels_config": {
    "python": {
     "delete_cmd_postfix": "",
     "delete_cmd_prefix": "del ",
     "library": "var_list.py",
     "varRefreshCmd": "print(var_dic_list())"
    },
    "r": {
     "delete_cmd_postfix": ") ",
     "delete_cmd_prefix": "rm(",
     "library": "var_list.r",
     "varRefreshCmd": "cat(var_dic_list()) "
    }
   },
   "types_to_exclude": [
    "module",
    "function",
    "builtin_function_or_method",
    "instance",
    "_Feature"
   ],
   "window_display": false
  },
  "vscode": {
   "interpreter": {
    "hash": "fa6d0b462f4950f504f32a46a962e206da8c02a017c0babf0326a960e5d516e7"
   }
  }
 },
 "nbformat": 4,
 "nbformat_minor": 4
}
