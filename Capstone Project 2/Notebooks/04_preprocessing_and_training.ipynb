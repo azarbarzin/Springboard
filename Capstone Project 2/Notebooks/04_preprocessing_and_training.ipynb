{
 "cells": [
  {
   "cell_type": "markdown",
   "metadata": {},
   "source": [
    "# 4 Pre-Processing and Training Data<a id='4_Pre-Processing_and_Training_Data'></a>"
   ]
  },
  {
   "attachments": {},
   "cell_type": "markdown",
   "metadata": {},
   "source": [
    "## 4.1 Contents<a id='4.1_Contents'></a>\n",
    "* [4 Pre-Processing and Training Data](#4_Pre-Processing_and_Training_Data)\n",
    "  * [4.1 Contents](#4.1_Contents)\n",
    "  * [4.2 Introduction](#4.2_Introduction)\n",
    "  * [4.3 Imports](#4.3_Imports)\n",
    "  * [4.4 Load Data](#4.4_Load_Data)\n",
    "  * [4.5 Train/Test Split](#4.5_Train/Test_Split)\n",
    "  * [4.6 Scaling data](#4.6_Scaling_data)\n",
    "  * [4.7 Models](#4.7_Initial_Models)\n",
    "    * [4.7.1 Define required functions to fit models and evaluate their performances](#4.7.1_Define_required_functions_to_fit_models_and_evaluate_their_performances)\n",
    "    * [4.7.2 Models with all features](#4.7.2_Models_with_all_features)\n",
    "    * [4.7.3 Models with selected features](#4.7.3_Models_with_selected_features)\n",
    "  * [4.8 Models Perfomance](#4.8_Models_Perfomance)\n",
    "  * [4.9 Final Model Selection](#4.9_Final_Model_Selection)    \n",
    "  * [4.10 Save best model object](#4.10_Save_best_model_object)\n",
    "  \n"
   ]
  },
  {
   "cell_type": "markdown",
   "metadata": {},
   "source": [
    "## 4.2 Introduction<a id='4.2_Introduction'></a>"
   ]
  },
  {
   "attachments": {},
   "cell_type": "markdown",
   "metadata": {},
   "source": [
    "In preceding notebooks, performed preliminary assessments of data quality. The detecting the abnormal ecgs was the primary aim. \n",
    "\n",
    "In this notebook we'll start to build machine learning models including Logistic regression, Random Forest Calssifier, and k nearest neighbour. Then, the process of efficiently and robustly creating and assessing models will be performed. "
   ]
  },
  {
   "cell_type": "markdown",
   "metadata": {},
   "source": [
    "## 4.3 Imports<a id='4.3_Imports'></a>"
   ]
  },
  {
   "cell_type": "code",
   "execution_count": 91,
   "metadata": {},
   "outputs": [],
   "source": [
    "import pandas as pd\n",
    "import numpy as np\n",
    "import os\n",
    "import pickle\n",
    "import matplotlib.pyplot as plt\n",
    "import seaborn as sns\n",
    "from sklearn import __version__ as sklearn_version\n",
    "from sklearn.decomposition import PCA\n",
    "from sklearn.preprocessing import scale\n",
    "from sklearn.model_selection import train_test_split, cross_validate, GridSearchCV, learning_curve,StratifiedKFold\n",
    "from sklearn.preprocessing import StandardScaler, MinMaxScaler\n",
    "\n",
    "from sklearn.linear_model import LogisticRegression\n",
    "from sklearn.neighbors import KNeighborsClassifier\n",
    "\n",
    "from sklearn.ensemble import RandomForestClassifier\n",
    "from sklearn.metrics import plot_confusion_matrix, f1_score, accuracy_score, precision_score, recall_score, roc_auc_score, roc_curve\n",
    "from sklearn.metrics import classification_report\n",
    "from sklearn.metrics import confusion_matrix\n",
    "from sklearn.metrics import ConfusionMatrixDisplay\n",
    "\n",
    "from sklearn.pipeline import make_pipeline\n",
    "from sklearn.feature_selection import SelectKBest, f_regression, SelectFromModel\n",
    "\n",
    "import datetime\n",
    "\n",
    "from library.sb_utils import save_file"
   ]
  },
  {
   "cell_type": "markdown",
   "metadata": {},
   "source": [
    "## 4.4 Load Data<a id='4.4_Load_Data'></a>"
   ]
  },
  {
   "cell_type": "code",
   "execution_count": 92,
   "metadata": {
    "scrolled": true
   },
   "outputs": [
    {
     "data": {
      "text/html": [
       "<div>\n",
       "<style scoped>\n",
       "    .dataframe tbody tr th:only-of-type {\n",
       "        vertical-align: middle;\n",
       "    }\n",
       "\n",
       "    .dataframe tbody tr th {\n",
       "        vertical-align: top;\n",
       "    }\n",
       "\n",
       "    .dataframe thead th {\n",
       "        text-align: right;\n",
       "    }\n",
       "</style>\n",
       "<table border=\"1\" class=\"dataframe\">\n",
       "  <thead>\n",
       "    <tr style=\"text-align: right;\">\n",
       "      <th></th>\n",
       "      <th>0</th>\n",
       "      <th>1</th>\n",
       "      <th>2</th>\n",
       "      <th>3</th>\n",
       "      <th>4</th>\n",
       "    </tr>\n",
       "  </thead>\n",
       "  <tbody>\n",
       "    <tr>\n",
       "      <th>t0</th>\n",
       "      <td>-0.112522</td>\n",
       "      <td>-1.100878</td>\n",
       "      <td>-0.567088</td>\n",
       "      <td>0.490473</td>\n",
       "      <td>0.800232</td>\n",
       "    </tr>\n",
       "    <tr>\n",
       "      <th>t1</th>\n",
       "      <td>-2.827204</td>\n",
       "      <td>-3.996840</td>\n",
       "      <td>-2.593450</td>\n",
       "      <td>-1.914407</td>\n",
       "      <td>-0.874252</td>\n",
       "    </tr>\n",
       "    <tr>\n",
       "      <th>t2</th>\n",
       "      <td>-3.773897</td>\n",
       "      <td>-4.285843</td>\n",
       "      <td>-3.874230</td>\n",
       "      <td>-3.616364</td>\n",
       "      <td>-2.384761</td>\n",
       "    </tr>\n",
       "    <tr>\n",
       "      <th>t3</th>\n",
       "      <td>-4.349751</td>\n",
       "      <td>-4.506579</td>\n",
       "      <td>-4.584095</td>\n",
       "      <td>-4.318823</td>\n",
       "      <td>-3.973292</td>\n",
       "    </tr>\n",
       "    <tr>\n",
       "      <th>t4</th>\n",
       "      <td>-4.376041</td>\n",
       "      <td>-4.022377</td>\n",
       "      <td>-4.187449</td>\n",
       "      <td>-4.268016</td>\n",
       "      <td>-4.338224</td>\n",
       "    </tr>\n",
       "    <tr>\n",
       "      <th>...</th>\n",
       "      <td>...</td>\n",
       "      <td>...</td>\n",
       "      <td>...</td>\n",
       "      <td>...</td>\n",
       "      <td>...</td>\n",
       "    </tr>\n",
       "    <tr>\n",
       "      <th>t136</th>\n",
       "      <td>0.228077</td>\n",
       "      <td>0.476333</td>\n",
       "      <td>-0.532197</td>\n",
       "      <td>0.990133</td>\n",
       "      <td>0.960304</td>\n",
       "    </tr>\n",
       "    <tr>\n",
       "      <th>t137</th>\n",
       "      <td>0.123431</td>\n",
       "      <td>0.773820</td>\n",
       "      <td>0.321097</td>\n",
       "      <td>1.086798</td>\n",
       "      <td>0.971020</td>\n",
       "    </tr>\n",
       "    <tr>\n",
       "      <th>t138</th>\n",
       "      <td>0.925286</td>\n",
       "      <td>1.119621</td>\n",
       "      <td>0.904227</td>\n",
       "      <td>1.403011</td>\n",
       "      <td>1.614392</td>\n",
       "    </tr>\n",
       "    <tr>\n",
       "      <th>t139</th>\n",
       "      <td>0.193137</td>\n",
       "      <td>-1.436250</td>\n",
       "      <td>-0.421797</td>\n",
       "      <td>-0.383564</td>\n",
       "      <td>1.421456</td>\n",
       "    </tr>\n",
       "    <tr>\n",
       "      <th>Target</th>\n",
       "      <td>1.000000</td>\n",
       "      <td>1.000000</td>\n",
       "      <td>1.000000</td>\n",
       "      <td>1.000000</td>\n",
       "      <td>1.000000</td>\n",
       "    </tr>\n",
       "  </tbody>\n",
       "</table>\n",
       "<p>141 rows × 5 columns</p>\n",
       "</div>"
      ],
      "text/plain": [
       "               0         1         2         3         4\n",
       "t0     -0.112522 -1.100878 -0.567088  0.490473  0.800232\n",
       "t1     -2.827204 -3.996840 -2.593450 -1.914407 -0.874252\n",
       "t2     -3.773897 -4.285843 -3.874230 -3.616364 -2.384761\n",
       "t3     -4.349751 -4.506579 -4.584095 -4.318823 -3.973292\n",
       "t4     -4.376041 -4.022377 -4.187449 -4.268016 -4.338224\n",
       "...          ...       ...       ...       ...       ...\n",
       "t136    0.228077  0.476333 -0.532197  0.990133  0.960304\n",
       "t137    0.123431  0.773820  0.321097  1.086798  0.971020\n",
       "t138    0.925286  1.119621  0.904227  1.403011  1.614392\n",
       "t139    0.193137 -1.436250 -0.421797 -0.383564  1.421456\n",
       "Target  1.000000  1.000000  1.000000  1.000000  1.000000\n",
       "\n",
       "[141 rows x 5 columns]"
      ]
     },
     "execution_count": 92,
     "metadata": {},
     "output_type": "execute_result"
    }
   ],
   "source": [
    "ecg_data = pd.read_csv('../data/ecg_data_step3_features.csv')\n",
    "ecg_data.head().T"
   ]
  },
  {
   "cell_type": "code",
   "execution_count": 93,
   "metadata": {},
   "outputs": [
    {
     "data": {
      "text/html": [
       "<div>\n",
       "<style scoped>\n",
       "    .dataframe tbody tr th:only-of-type {\n",
       "        vertical-align: middle;\n",
       "    }\n",
       "\n",
       "    .dataframe tbody tr th {\n",
       "        vertical-align: top;\n",
       "    }\n",
       "\n",
       "    .dataframe thead th {\n",
       "        text-align: right;\n",
       "    }\n",
       "</style>\n",
       "<table border=\"1\" class=\"dataframe\">\n",
       "  <thead>\n",
       "    <tr style=\"text-align: right;\">\n",
       "      <th></th>\n",
       "      <th>0</th>\n",
       "      <th>1</th>\n",
       "      <th>2</th>\n",
       "      <th>3</th>\n",
       "      <th>4</th>\n",
       "    </tr>\n",
       "  </thead>\n",
       "  <tbody>\n",
       "    <tr>\n",
       "      <th>t0</th>\n",
       "      <td>-0.112522</td>\n",
       "      <td>-1.100878</td>\n",
       "      <td>-0.567088</td>\n",
       "      <td>0.490473</td>\n",
       "      <td>0.800232</td>\n",
       "    </tr>\n",
       "    <tr>\n",
       "      <th>t1</th>\n",
       "      <td>-2.827204</td>\n",
       "      <td>-3.996840</td>\n",
       "      <td>-2.593450</td>\n",
       "      <td>-1.914407</td>\n",
       "      <td>-0.874252</td>\n",
       "    </tr>\n",
       "    <tr>\n",
       "      <th>t2</th>\n",
       "      <td>-3.773897</td>\n",
       "      <td>-4.285843</td>\n",
       "      <td>-3.874230</td>\n",
       "      <td>-3.616364</td>\n",
       "      <td>-2.384761</td>\n",
       "    </tr>\n",
       "    <tr>\n",
       "      <th>t3</th>\n",
       "      <td>-4.349751</td>\n",
       "      <td>-4.506579</td>\n",
       "      <td>-4.584095</td>\n",
       "      <td>-4.318823</td>\n",
       "      <td>-3.973292</td>\n",
       "    </tr>\n",
       "    <tr>\n",
       "      <th>t4</th>\n",
       "      <td>-4.376041</td>\n",
       "      <td>-4.022377</td>\n",
       "      <td>-4.187449</td>\n",
       "      <td>-4.268016</td>\n",
       "      <td>-4.338224</td>\n",
       "    </tr>\n",
       "    <tr>\n",
       "      <th>...</th>\n",
       "      <td>...</td>\n",
       "      <td>...</td>\n",
       "      <td>...</td>\n",
       "      <td>...</td>\n",
       "      <td>...</td>\n",
       "    </tr>\n",
       "    <tr>\n",
       "      <th>t136</th>\n",
       "      <td>0.228077</td>\n",
       "      <td>0.476333</td>\n",
       "      <td>-0.532197</td>\n",
       "      <td>0.990133</td>\n",
       "      <td>0.960304</td>\n",
       "    </tr>\n",
       "    <tr>\n",
       "      <th>t137</th>\n",
       "      <td>0.123431</td>\n",
       "      <td>0.773820</td>\n",
       "      <td>0.321097</td>\n",
       "      <td>1.086798</td>\n",
       "      <td>0.971020</td>\n",
       "    </tr>\n",
       "    <tr>\n",
       "      <th>t138</th>\n",
       "      <td>0.925286</td>\n",
       "      <td>1.119621</td>\n",
       "      <td>0.904227</td>\n",
       "      <td>1.403011</td>\n",
       "      <td>1.614392</td>\n",
       "    </tr>\n",
       "    <tr>\n",
       "      <th>t139</th>\n",
       "      <td>0.193137</td>\n",
       "      <td>-1.436250</td>\n",
       "      <td>-0.421797</td>\n",
       "      <td>-0.383564</td>\n",
       "      <td>1.421456</td>\n",
       "    </tr>\n",
       "    <tr>\n",
       "      <th>Target</th>\n",
       "      <td>1.000000</td>\n",
       "      <td>1.000000</td>\n",
       "      <td>1.000000</td>\n",
       "      <td>1.000000</td>\n",
       "      <td>1.000000</td>\n",
       "    </tr>\n",
       "  </tbody>\n",
       "</table>\n",
       "<p>141 rows × 5 columns</p>\n",
       "</div>"
      ],
      "text/plain": [
       "               0         1         2         3         4\n",
       "t0     -0.112522 -1.100878 -0.567088  0.490473  0.800232\n",
       "t1     -2.827204 -3.996840 -2.593450 -1.914407 -0.874252\n",
       "t2     -3.773897 -4.285843 -3.874230 -3.616364 -2.384761\n",
       "t3     -4.349751 -4.506579 -4.584095 -4.318823 -3.973292\n",
       "t4     -4.376041 -4.022377 -4.187449 -4.268016 -4.338224\n",
       "...          ...       ...       ...       ...       ...\n",
       "t136    0.228077  0.476333 -0.532197  0.990133  0.960304\n",
       "t137    0.123431  0.773820  0.321097  1.086798  0.971020\n",
       "t138    0.925286  1.119621  0.904227  1.403011  1.614392\n",
       "t139    0.193137 -1.436250 -0.421797 -0.383564  1.421456\n",
       "Target  1.000000  1.000000  1.000000  1.000000  1.000000\n",
       "\n",
       "[141 rows x 5 columns]"
      ]
     },
     "execution_count": 93,
     "metadata": {},
     "output_type": "execute_result"
    }
   ],
   "source": [
    "ecg_data.Target = ecg_data.Target.astype('int')\n",
    "ecg_data.head().T"
   ]
  },
  {
   "cell_type": "markdown",
   "metadata": {},
   "source": [
    "## 4.5 Train/Test Split<a id='4.5_Train/Test_Split'></a>"
   ]
  },
  {
   "cell_type": "code",
   "execution_count": 94,
   "metadata": {},
   "outputs": [],
   "source": [
    "# Define a function to split the dataset into train and test parts\n",
    "def Split_Dataset_Train_Test(data):\n",
    "    X_train, X_test, y_train, y_test = train_test_split(data.drop(columns='Target'), \n",
    "                                                        data.Target, test_size=0.2,\n",
    "                                                        stratify= data.Target,random_state=47)\n",
    "\n",
    "    return  X_train, X_test, y_train, y_test"
   ]
  },
  {
   "cell_type": "code",
   "execution_count": 95,
   "metadata": {},
   "outputs": [
    {
     "data": {
      "text/plain": [
       "1    58.403361\n",
       "0    41.596639\n",
       "Name: Target, dtype: float64"
      ]
     },
     "execution_count": 95,
     "metadata": {},
     "output_type": "execute_result"
    }
   ],
   "source": [
    "# check if the dataset is balanced\n",
    "ecg_data.Target.value_counts(normalize=True)*100"
   ]
  },
  {
   "cell_type": "code",
   "execution_count": 96,
   "metadata": {},
   "outputs": [],
   "source": [
    "X_train, X_test, y_train, y_test = Split_Dataset_Train_Test(ecg_data)"
   ]
  },
  {
   "cell_type": "code",
   "execution_count": 97,
   "metadata": {},
   "outputs": [
    {
     "data": {
      "text/plain": [
       "((3998, 140), (3998,), (1000, 140), (1000,))"
      ]
     },
     "execution_count": 97,
     "metadata": {},
     "output_type": "execute_result"
    }
   ],
   "source": [
    "X_train.shape, y_train.shape, X_test.shape,  y_test.shape"
   ]
  },
  {
   "cell_type": "markdown",
   "metadata": {},
   "source": [
    "## 4.6 Scaling data<a id='4.6_Scaling_data'></a>"
   ]
  },
  {
   "cell_type": "code",
   "execution_count": 98,
   "metadata": {},
   "outputs": [],
   "source": [
    "# https://towardsdatascience.com/data-leakage-in-machine-learning-6161c167e8ba\n",
    "# https://stats.stackexchange.com/questions/569024/when-we-use-standardscaler-in-pipeline-with-gridsearchcv-does-it-automaticall\n",
    "\n",
    "def scale_data(Scaler,X_train, X_test):\n",
    "    sc = Scaler\n",
    "    X_train = sc.fit_transform(X_train)\n",
    "    X_test = sc.transform(X_test)\n",
    "    return X_train, X_test\n"
   ]
  },
  {
   "cell_type": "markdown",
   "metadata": {},
   "source": [
    "## 4.7 Models<a id='4.7_Models'></a>"
   ]
  },
  {
   "cell_type": "markdown",
   "metadata": {},
   "source": [
    "### 4.7.1 Define required functions to fit models and evaluate their performances<a id='4.7.1_Define_required_functions_to_fit_models_and_evaluate_their_performances'></a>\n"
   ]
  },
  {
   "cell_type": "code",
   "execution_count": 99,
   "metadata": {},
   "outputs": [],
   "source": [
    "# Show model's performance\n",
    "\n",
    "def model_results(model, y_train, y_tr_pred, y_test, y_te_pred, show_training_result=True ):\n",
    "\n",
    "    print( model)\n",
    "    print('-------------------------------------')\n",
    "    if show_training_result:\n",
    "        print(\"Classification Report for Training Data\")\n",
    "        print(classification_report(y_train, y_tr_pred, target_names=['ABNORMAL','NORMAL']))\n",
    "    print('-------------------------------------')\n",
    "    print(\"Classification Report for Test Data\")\n",
    "    print(classification_report(y_test, y_te_pred, target_names=['ABNORMAL','NORMAL']))\n"
   ]
  },
  {
   "cell_type": "code",
   "execution_count": 100,
   "metadata": {},
   "outputs": [],
   "source": [
    "# Plot Model's ROC\n",
    "\n",
    "def plot_ROC(model,X, y, title_method ):\n",
    "    \n",
    "    logit_roc_auc = roc_auc_score(y, model.predict(X))\n",
    "    fpr, tpr, thresholds = roc_curve(y, model.predict_proba(X)[:,1])\n",
    "    plt.figure()\n",
    "    plt.plot(fpr, tpr, label='{} (area = {:2.2%})'.format(title_method,logit_roc_auc))\n",
    "    plt.plot([0, 1], [0, 1],'r--')\n",
    "    plt.xlim([0.0, 1.0])\n",
    "    plt.ylim([0.0, 1.05])\n",
    "    plt.xlabel('False Positive Rate')\n",
    "    plt.ylabel('True Positive Rate')\n",
    "    plt.title('Receiver operating characteristic')\n",
    "    plt.legend(loc=\"lower right\")\n",
    "    plt.savefig('Log_ROC')\n",
    "    plt.show()"
   ]
  },
  {
   "cell_type": "code",
   "execution_count": 101,
   "metadata": {},
   "outputs": [],
   "source": [
    "#  train and test a model \n",
    "\n",
    "def train_test_model(model, grid_params, X_train, y_train, X_test, y_test, model_name):\n",
    "    pipe = make_pipeline(\n",
    "    StandardScaler(),\n",
    "    model\n",
    "    )\n",
    "\n",
    "    rskf = StratifiedKFold(n_splits = 5, random_state = 42, shuffle=True)\n",
    "    model_grid_cv = GridSearchCV(pipe, param_grid=grid_params, cv=rskf, n_jobs=-1)\n",
    "    model_grid_cv.fit(X_train, y_train)\n",
    "    \n",
    "    y_tr_pred = model_grid_cv.predict(X_train)\n",
    "    y_te_pred = model_grid_cv.predict(X_test)\n",
    "    \n",
    "\n",
    "\n",
    "    if model_name in ['Random Forest', 'K_Neighbors', 'Logistic Regression'] :\n",
    "        show_training_result = False\n",
    "    else:\n",
    "        show_training_result= True\n",
    "    model_results(model_name, y_train, y_tr_pred, y_test, y_te_pred,show_training_result )  \n",
    "    plot_ROC(model_grid_cv, X_test, y_test, model_name)\n",
    "\n",
    "    row_model = {'model_name':model_name, 'Accuracy on training data':accuracy_score(y_tr_pred, y_train), 'Accuracy on test data':accuracy_score(y_te_pred, y_test),\n",
    "'Precision score on training data':precision_score(y_train, y_tr_pred,  pos_label=0), 'Precision score  on test data':precision_score( y_test, y_te_pred,  pos_label=0), \n",
    "'Recall score on training data':recall_score(y_train, y_tr_pred, pos_label=1),  'Recall score  on test data':recall_score( y_test, y_te_pred, pos_label=1), \n",
    "'F1 score on training data':f1_score(y_train, y_tr_pred, pos_label =0 ), 'F1 score  on test data':f1_score( y_test, y_te_pred, pos_label=1), \n",
    "'Classification Report for Training Data':classification_report(y_train, y_tr_pred, target_names=['ABNORMAL','NORMAL']), \n",
    "'Classification Report for Test Data':classification_report(y_test, y_te_pred, target_names=['ABNORMAL','NORMAL']), \n",
    "'best_params_':model_grid_cv.best_params_\n",
    "\n",
    "    }\n",
    "    return(row_model) \n",
    "\n"
   ]
  },
  {
   "attachments": {},
   "cell_type": "markdown",
   "metadata": {},
   "source": [
    "Three machine learning algorithms for classification problems, including: logistic regression, random forest, and k nearest neighbour are applied on the train dataset. Then, the performances of these models are evaluated using metrics Accuracy, Precision, Recall, and F1 score and plotting Receiver-Operator Curve (ROC Curve) and calculating Area Under the Curve (AUC)."
   ]
  },
  {
   "cell_type": "code",
   "execution_count": 113,
   "metadata": {},
   "outputs": [],
   "source": [
    "def apply_evaluate_models(data):\n",
    "    X_train, X_test, y_train, y_test = Split_Dataset_Train_Test(data)\n",
    "\n",
    "    # define 3 models LogisticRegression, RandomForestClassifier, and KNeighborsClassifier and their parameters\n",
    "    params = [\n",
    "        {'classifier' : [LogisticRegression()], 'model_name' : ['Logistic Regression'],\n",
    "        'param_grid': { 'logisticregression__penalty' : ['l1', 'l2', None], 'logisticregression__C' : np.logspace(-3,3,7), 'logisticregression__solver' : ['newton-cg', 'lbfgs', 'liblinear']}},\n",
    "        {'classifier' : [RandomForestClassifier()], 'model_name' : ['Random Forest'],\n",
    "        'param_grid': { 'randomforestclassifier__n_estimators' : list(range(10,100,200)), 'randomforestclassifier__max_depth' : [4,5,6,7,8], 'randomforestclassifier__criterion' :['gini', 'entropy']}}, \n",
    "        {'classifier' : [KNeighborsClassifier()], 'model_name' : ['K_Neighbors'],\n",
    "        'param_grid': { 'kneighborsclassifier__weights': ['uniform','distance'],'kneighborsclassifier__n_neighbors': [2]}}\n",
    "    ]\n",
    "\n",
    "\n",
    "    # define a dataframe to save performance metrics\n",
    "    df_results = pd.DataFrame(columns=['model_name', 'Accuracy on training data', 'Accuracy on test data',\n",
    "    'Precision score on training data', 'Precision score  on test data', \n",
    "    'Recall score on training data', 'Recall score  on test data', \n",
    "    'F1 score on training data', 'F1 score  on test data', \n",
    "    'Classification Report for Training Data', \n",
    "    'Classification Report for Test Data', \n",
    "    'best_params_'])\n",
    "\n",
    "    # train and test models\n",
    "    for model_params in params:\n",
    "        model = model_params['classifier'][0]\n",
    "        param_grid = model_params['param_grid']\n",
    "        model_name = model_params['model_name'][0]\n",
    "        result = train_test_model(model, param_grid, X_train, y_train, X_test, y_test, model_name)\n",
    "        \n",
    "        df_results.loc[len(df_results.index)] = result\n",
    "\n",
    "    return df_results\n"
   ]
  },
  {
   "attachments": {},
   "cell_type": "markdown",
   "metadata": {},
   "source": [
    "### 4.7.1 Models using all features<a id='4.7.1_Models_with_all_features'></a>\n",
    "\n",
    "\n"
   ]
  },
  {
   "cell_type": "markdown",
   "metadata": {},
   "source": [
    "Split Ecg with all features into train and test, fitting models on the train part, evaluate models' performances"
   ]
  },
  {
   "cell_type": "code",
   "execution_count": 112,
   "metadata": {},
   "outputs": [
    {
     "name": "stdout",
     "output_type": "stream",
     "text": [
      "(3998, 140) (3998,) (1000, 140) (1000,)\n",
      "Logistic Regression\n",
      "-------------------------------------\n",
      "-------------------------------------\n",
      "Classification Report for Test Data\n",
      "              precision    recall  f1-score   support\n",
      "\n",
      "    ABNORMAL       0.99      0.98      0.98       416\n",
      "      NORMAL       0.98      0.99      0.99       584\n",
      "\n",
      "    accuracy                           0.98      1000\n",
      "   macro avg       0.98      0.98      0.98      1000\n",
      "weighted avg       0.98      0.98      0.98      1000\n",
      "\n"
     ]
    },
    {
     "data": {
      "image/png": "[encoded data removed]",
      "text/plain": [
       "<Figure size 432x288 with 1 Axes>"
      ]
     },
     "metadata": {
      "needs_background": "light"
     },
     "output_type": "display_data"
    },
    {
     "name": "stdout",
     "output_type": "stream",
     "text": [
      "Random Forest\n",
      "-------------------------------------\n",
      "-------------------------------------\n",
      "Classification Report for Test Data\n",
      "              precision    recall  f1-score   support\n",
      "\n",
      "    ABNORMAL       1.00      0.98      0.99       416\n",
      "      NORMAL       0.99      1.00      0.99       584\n",
      "\n",
      "    accuracy                           0.99      1000\n",
      "   macro avg       0.99      0.99      0.99      1000\n",
      "weighted avg       0.99      0.99      0.99      1000\n",
      "\n"
     ]
    },
    {
     "data": {
      "image/png": "[encoded data removed]",
      "text/plain": [
       "<Figure size 432x288 with 1 Axes>"
      ]
     },
     "metadata": {
      "needs_background": "light"
     },
     "output_type": "display_data"
    },
    {
     "name": "stdout",
     "output_type": "stream",
     "text": [
      "K_Neighbors\n",
      "-------------------------------------\n",
      "-------------------------------------\n",
      "Classification Report for Test Data\n",
      "              precision    recall  f1-score   support\n",
      "\n",
      "    ABNORMAL       0.99      0.99      0.99       416\n",
      "      NORMAL       0.99      0.99      0.99       584\n",
      "\n",
      "    accuracy                           0.99      1000\n",
      "   macro avg       0.99      0.99      0.99      1000\n",
      "weighted avg       0.99      0.99      0.99      1000\n",
      "\n"
     ]
    },
    {
     "data": {
      "image/png": "[encoded data removed]",
      "text/plain": [
       "<Figure size 432x288 with 1 Axes>"
      ]
     },
     "metadata": {
      "needs_background": "light"
     },
     "output_type": "display_data"
    }
   ],
   "source": [
    "df_results = apply_evaluate_models(ecg_data)"
   ]
  },
  {
   "attachments": {},
   "cell_type": "markdown",
   "metadata": {},
   "source": [
    "Models performances"
   ]
  },
  {
   "cell_type": "code",
   "execution_count": 114,
   "metadata": {},
   "outputs": [
    {
     "data": {
      "text/html": [
       "<div>\n",
       "<style scoped>\n",
       "    .dataframe tbody tr th:only-of-type {\n",
       "        vertical-align: middle;\n",
       "    }\n",
       "\n",
       "    .dataframe tbody tr th {\n",
       "        vertical-align: top;\n",
       "    }\n",
       "\n",
       "    .dataframe thead th {\n",
       "        text-align: right;\n",
       "    }\n",
       "</style>\n",
       "<table border=\"1\" class=\"dataframe\">\n",
       "  <thead>\n",
       "    <tr style=\"text-align: right;\">\n",
       "      <th></th>\n",
       "      <th>model_name</th>\n",
       "      <th>Accuracy on test data</th>\n",
       "      <th>Precision score  on test data</th>\n",
       "      <th>Recall score  on test data</th>\n",
       "      <th>F1 score  on test data</th>\n",
       "      <th>best_params_</th>\n",
       "    </tr>\n",
       "  </thead>\n",
       "  <tbody>\n",
       "    <tr>\n",
       "      <th>0</th>\n",
       "      <td>Logistic Regression</td>\n",
       "      <td>0.984</td>\n",
       "      <td>0.985437</td>\n",
       "      <td>0.989726</td>\n",
       "      <td>0.986348</td>\n",
       "      <td>{'logisticregression__C': 0.1, 'logisticregression__penalty': 'l1', 'logisticregression__solver': 'liblinear'}</td>\n",
       "    </tr>\n",
       "    <tr>\n",
       "      <th>1</th>\n",
       "      <td>Random Forest</td>\n",
       "      <td>0.990</td>\n",
       "      <td>0.995122</td>\n",
       "      <td>0.996575</td>\n",
       "      <td>0.991482</td>\n",
       "      <td>{'randomforestclassifier__criterion': 'gini', 'randomforestclassifier__max_depth': 7, 'randomforestclassifier__n_estimators': 10}</td>\n",
       "    </tr>\n",
       "    <tr>\n",
       "      <th>2</th>\n",
       "      <td>K_Neighbors</td>\n",
       "      <td>0.990</td>\n",
       "      <td>0.990338</td>\n",
       "      <td>0.993151</td>\n",
       "      <td>0.991453</td>\n",
       "      <td>{'kneighborsclassifier__n_neighbors': 2, 'kneighborsclassifier__weights': 'uniform'}</td>\n",
       "    </tr>\n",
       "  </tbody>\n",
       "</table>\n",
       "</div>"
      ],
      "text/plain": [
       "            model_name  Accuracy on test data  Precision score  on test data  \\\n",
       "0  Logistic Regression                  0.984                       0.985437   \n",
       "1        Random Forest                  0.990                       0.995122   \n",
       "2          K_Neighbors                  0.990                       0.990338   \n",
       "\n",
       "   Recall score  on test data  F1 score  on test data  \\\n",
       "0                    0.989726                0.986348   \n",
       "1                    0.996575                0.991482   \n",
       "2                    0.993151                0.991453   \n",
       "\n",
       "                                                                                                                        best_params_  \n",
       "0                     {'logisticregression__C': 0.1, 'logisticregression__penalty': 'l1', 'logisticregression__solver': 'liblinear'}  \n",
       "1  {'randomforestclassifier__criterion': 'gini', 'randomforestclassifier__max_depth': 7, 'randomforestclassifier__n_estimators': 10}  \n",
       "2                                               {'kneighborsclassifier__n_neighbors': 2, 'kneighborsclassifier__weights': 'uniform'}  "
      ]
     },
     "execution_count": 114,
     "metadata": {},
     "output_type": "execute_result"
    }
   ],
   "source": [
    "pd.set_option('display.max_colwidth', 3000)\n",
    "df_results.iloc[:, [0, 2, 4,6,8,11]]"
   ]
  },
  {
   "attachments": {},
   "cell_type": "markdown",
   "metadata": {},
   "source": [
    "As it can be seen the models performance might be \"too good to be true\". In order to investigate whether this is an artifact of of software bugs of data issues, the code was examined looking for possible bugs but not found any error. Then, some approaches were examined to discover a single leaking feature which were not successful. At the end, a subset of the features not including high correlated features is used for further analisysthe."
   ]
  },
  {
   "attachments": {},
   "cell_type": "markdown",
   "metadata": {},
   "source": [
    "### 4.7.3 Models with selected features<a id='4.7.3_Models_with_selected_features'></a>"
   ]
  },
  {
   "attachments": {},
   "cell_type": "markdown",
   "metadata": {},
   "source": [
    "In previous notbook, a datset was built which consists of features with corrolation lower than 85 percent with Target variable. In this section, this dataset is used to evaluate the models perfomance."
   ]
  },
  {
   "cell_type": "code",
   "execution_count": 121,
   "metadata": {},
   "outputs": [
    {
     "name": "stdout",
     "output_type": "stream",
     "text": [
      "\n",
      "dataset shape: (4998, 6)\n"
     ]
    }
   ],
   "source": [
    "ecg_data_selected = pd.read_csv('../data/ecg_data_step3_features_uncorrelated85.csv')\n",
    "print('\\ndataset shape:', ecg_data_selected.shape)"
   ]
  },
  {
   "cell_type": "code",
   "execution_count": 120,
   "metadata": {},
   "outputs": [
    {
     "data": {
      "text/html": [
       "<div>\n",
       "<style scoped>\n",
       "    .dataframe tbody tr th:only-of-type {\n",
       "        vertical-align: middle;\n",
       "    }\n",
       "\n",
       "    .dataframe tbody tr th {\n",
       "        vertical-align: top;\n",
       "    }\n",
       "\n",
       "    .dataframe thead th {\n",
       "        text-align: right;\n",
       "    }\n",
       "</style>\n",
       "<table border=\"1\" class=\"dataframe\">\n",
       "  <thead>\n",
       "    <tr style=\"text-align: right;\">\n",
       "      <th></th>\n",
       "      <th>t0</th>\n",
       "      <th>t1</th>\n",
       "      <th>t6</th>\n",
       "      <th>t7</th>\n",
       "      <th>t139</th>\n",
       "      <th>Target</th>\n",
       "    </tr>\n",
       "  </thead>\n",
       "  <tbody>\n",
       "    <tr>\n",
       "      <th>0</th>\n",
       "      <td>-0.112522</td>\n",
       "      <td>-2.827204</td>\n",
       "      <td>-2.181408</td>\n",
       "      <td>-1.818287</td>\n",
       "      <td>0.193137</td>\n",
       "      <td>1.0</td>\n",
       "    </tr>\n",
       "    <tr>\n",
       "      <th>1</th>\n",
       "      <td>-1.100878</td>\n",
       "      <td>-3.996840</td>\n",
       "      <td>-1.566126</td>\n",
       "      <td>-0.992258</td>\n",
       "      <td>-1.436250</td>\n",
       "      <td>1.0</td>\n",
       "    </tr>\n",
       "    <tr>\n",
       "      <th>2</th>\n",
       "      <td>-0.567088</td>\n",
       "      <td>-2.593450</td>\n",
       "      <td>-1.742940</td>\n",
       "      <td>-1.490658</td>\n",
       "      <td>-0.421797</td>\n",
       "      <td>1.0</td>\n",
       "    </tr>\n",
       "    <tr>\n",
       "      <th>3</th>\n",
       "      <td>0.490473</td>\n",
       "      <td>-1.914407</td>\n",
       "      <td>-2.993280</td>\n",
       "      <td>-1.671131</td>\n",
       "      <td>-0.383564</td>\n",
       "      <td>1.0</td>\n",
       "    </tr>\n",
       "    <tr>\n",
       "      <th>4</th>\n",
       "      <td>0.800232</td>\n",
       "      <td>-0.874252</td>\n",
       "      <td>-2.534510</td>\n",
       "      <td>-1.783423</td>\n",
       "      <td>1.421456</td>\n",
       "      <td>1.0</td>\n",
       "    </tr>\n",
       "  </tbody>\n",
       "</table>\n",
       "</div>"
      ],
      "text/plain": [
       "         t0        t1        t6        t7      t139  Target\n",
       "0 -0.112522 -2.827204 -2.181408 -1.818287  0.193137     1.0\n",
       "1 -1.100878 -3.996840 -1.566126 -0.992258 -1.436250     1.0\n",
       "2 -0.567088 -2.593450 -1.742940 -1.490658 -0.421797     1.0\n",
       "3  0.490473 -1.914407 -2.993280 -1.671131 -0.383564     1.0\n",
       "4  0.800232 -0.874252 -2.534510 -1.783423  1.421456     1.0"
      ]
     },
     "execution_count": 120,
     "metadata": {},
     "output_type": "execute_result"
    }
   ],
   "source": [
    "ecg_data_selected.head()"
   ]
  },
  {
   "cell_type": "markdown",
   "metadata": {},
   "source": [
    "Correlation between Target and other features in the dataset "
   ]
  },
  {
   "cell_type": "code",
   "execution_count": 123,
   "metadata": {},
   "outputs": [
    {
     "data": {
      "text/plain": [
       "t0        0.114752\n",
       "t1        0.455028\n",
       "t6        0.015209\n",
       "t7        0.326290\n",
       "t139      0.151506\n",
       "Target    1.000000\n",
       "Name: Target, dtype: float64"
      ]
     },
     "execution_count": 123,
     "metadata": {},
     "output_type": "execute_result"
    }
   ],
   "source": [
    "ecg_data_selected.corr()['Target'][:].abs().T"
   ]
  },
  {
   "cell_type": "code",
   "execution_count": 125,
   "metadata": {},
   "outputs": [
    {
     "name": "stdout",
     "output_type": "stream",
     "text": [
      "Logistic Regression\n",
      "-------------------------------------\n",
      "-------------------------------------\n",
      "Classification Report for Test Data\n",
      "              precision    recall  f1-score   support\n",
      "\n",
      "    ABNORMAL       0.92      0.88      0.90       416\n",
      "      NORMAL       0.92      0.94      0.93       584\n",
      "\n",
      "    accuracy                           0.92      1000\n",
      "   macro avg       0.92      0.91      0.92      1000\n",
      "weighted avg       0.92      0.92      0.92      1000\n",
      "\n"
     ]
    },
    {
     "data": {
      "image/png": "[encoded data removed]",
      "text/plain": [
       "<Figure size 432x288 with 1 Axes>"
      ]
     },
     "metadata": {
      "needs_background": "light"
     },
     "output_type": "display_data"
    },
    {
     "name": "stdout",
     "output_type": "stream",
     "text": [
      "Random Forest\n",
      "-------------------------------------\n",
      "-------------------------------------\n",
      "Classification Report for Test Data\n",
      "              precision    recall  f1-score   support\n",
      "\n",
      "    ABNORMAL       0.95      0.92      0.94       416\n",
      "      NORMAL       0.94      0.97      0.96       584\n",
      "\n",
      "    accuracy                           0.95      1000\n",
      "   macro avg       0.95      0.94      0.95      1000\n",
      "weighted avg       0.95      0.95      0.95      1000\n",
      "\n"
     ]
    },
    {
     "data": {
      "image/png": "[encoded data removed]",
      "text/plain": [
       "<Figure size 432x288 with 1 Axes>"
      ]
     },
     "metadata": {
      "needs_background": "light"
     },
     "output_type": "display_data"
    },
    {
     "name": "stdout",
     "output_type": "stream",
     "text": [
      "K_Neighbors\n",
      "-------------------------------------\n",
      "-------------------------------------\n",
      "Classification Report for Test Data\n",
      "              precision    recall  f1-score   support\n",
      "\n",
      "    ABNORMAL       0.94      0.94      0.94       416\n",
      "      NORMAL       0.96      0.95      0.95       584\n",
      "\n",
      "    accuracy                           0.95      1000\n",
      "   macro avg       0.95      0.95      0.95      1000\n",
      "weighted avg       0.95      0.95      0.95      1000\n",
      "\n"
     ]
    },
    {
     "data": {
      "image/png": "[encoded data removed]",
      "text/plain": [
       "<Figure size 432x288 with 1 Axes>"
      ]
     },
     "metadata": {
      "needs_background": "light"
     },
     "output_type": "display_data"
    }
   ],
   "source": [
    "df_results = apply_evaluate_models(ecg_data_selected)"
   ]
  },
  {
   "cell_type": "markdown",
   "metadata": {},
   "source": [
    "Models performances"
   ]
  },
  {
   "cell_type": "code",
   "execution_count": 126,
   "metadata": {},
   "outputs": [
    {
     "data": {
      "text/html": [
       "<div>\n",
       "<style scoped>\n",
       "    .dataframe tbody tr th:only-of-type {\n",
       "        vertical-align: middle;\n",
       "    }\n",
       "\n",
       "    .dataframe tbody tr th {\n",
       "        vertical-align: top;\n",
       "    }\n",
       "\n",
       "    .dataframe thead th {\n",
       "        text-align: right;\n",
       "    }\n",
       "</style>\n",
       "<table border=\"1\" class=\"dataframe\">\n",
       "  <thead>\n",
       "    <tr style=\"text-align: right;\">\n",
       "      <th></th>\n",
       "      <th>model_name</th>\n",
       "      <th>Accuracy on test data</th>\n",
       "      <th>Precision score  on test data</th>\n",
       "      <th>Recall score  on test data</th>\n",
       "      <th>F1 score  on test data</th>\n",
       "      <th>best_params_</th>\n",
       "    </tr>\n",
       "  </thead>\n",
       "  <tbody>\n",
       "    <tr>\n",
       "      <th>0</th>\n",
       "      <td>Logistic Regression</td>\n",
       "      <td>0.918</td>\n",
       "      <td>0.917500</td>\n",
       "      <td>0.943493</td>\n",
       "      <td>0.930743</td>\n",
       "      <td>{'logisticregression__C': 0.1, 'logisticregression__penalty': 'l2', 'logisticregression__solver': 'newton-cg'}</td>\n",
       "    </tr>\n",
       "    <tr>\n",
       "      <th>1</th>\n",
       "      <td>Random Forest</td>\n",
       "      <td>0.948</td>\n",
       "      <td>0.955000</td>\n",
       "      <td>0.969178</td>\n",
       "      <td>0.956081</td>\n",
       "      <td>{'randomforestclassifier__criterion': 'entropy', 'randomforestclassifier__max_depth': 8, 'randomforestclassifier__n_estimators': 10}</td>\n",
       "    </tr>\n",
       "    <tr>\n",
       "      <th>2</th>\n",
       "      <td>K_Neighbors</td>\n",
       "      <td>0.947</td>\n",
       "      <td>0.935252</td>\n",
       "      <td>0.953767</td>\n",
       "      <td>0.954584</td>\n",
       "      <td>{'kneighborsclassifier__n_neighbors': 2, 'kneighborsclassifier__weights': 'distance'}</td>\n",
       "    </tr>\n",
       "  </tbody>\n",
       "</table>\n",
       "</div>"
      ],
      "text/plain": [
       "            model_name  Accuracy on test data  Precision score  on test data  \\\n",
       "0  Logistic Regression                  0.918                       0.917500   \n",
       "1        Random Forest                  0.948                       0.955000   \n",
       "2          K_Neighbors                  0.947                       0.935252   \n",
       "\n",
       "   Recall score  on test data  F1 score  on test data  \\\n",
       "0                    0.943493                0.930743   \n",
       "1                    0.969178                0.956081   \n",
       "2                    0.953767                0.954584   \n",
       "\n",
       "                                                                                                                           best_params_  \n",
       "0                        {'logisticregression__C': 0.1, 'logisticregression__penalty': 'l2', 'logisticregression__solver': 'newton-cg'}  \n",
       "1  {'randomforestclassifier__criterion': 'entropy', 'randomforestclassifier__max_depth': 8, 'randomforestclassifier__n_estimators': 10}  \n",
       "2                                                 {'kneighborsclassifier__n_neighbors': 2, 'kneighborsclassifier__weights': 'distance'}  "
      ]
     },
     "execution_count": 126,
     "metadata": {},
     "output_type": "execute_result"
    }
   ],
   "source": [
    "df_results.iloc[:, [0, 2, 4,6,8,11]]"
   ]
  },
  {
   "cell_type": "markdown",
   "metadata": {},
   "source": [
    "## 4.9 Final Model Selection<a id='4.9_Final_Model_Selection'></a>"
   ]
  },
  {
   "attachments": {},
   "cell_type": "markdown",
   "metadata": {},
   "source": [
    "For further analisys, additional models will be built in the \"Modeling\" notebook and the models performance will be examined."
   ]
  }
 ],
 "metadata": {
  "kernelspec": {
   "display_name": "Python 3.7.4 ('base')",
   "language": "python",
   "name": "python3"
  },
  "language_info": {
   "codemirror_mode": {
    "name": "ipython",
    "version": 3
   },
   "file_extension": ".py",
   "mimetype": "text/x-python",
   "name": "python",
   "nbconvert_exporter": "python",
   "pygments_lexer": "ipython3",
   "version": "3.7.4"
  },
  "toc": {
   "base_numbering": 1,
   "nav_menu": {},
   "number_sections": true,
   "sideBar": true,
   "skip_h1_title": false,
   "title_cell": "Table of Contents",
   "title_sidebar": "Contents",
   "toc_cell": false,
   "toc_position": {},
   "toc_section_display": true,
   "toc_window_display": true
  },
  "varInspector": {
   "cols": {
    "lenName": 16,
    "lenType": 16,
    "lenVar": 40
   },
   "kernels_config": {
    "python": {
     "delete_cmd_postfix": "",
     "delete_cmd_prefix": "del ",
     "library": "var_list.py",
     "varRefreshCmd": "print(var_dic_list())"
    },
    "r": {
     "delete_cmd_postfix": ") ",
     "delete_cmd_prefix": "rm(",
     "library": "var_list.r",
     "varRefreshCmd": "cat(var_dic_list()) "
    }
   },
   "types_to_exclude": [
    "module",
    "function",
    "builtin_function_or_method",
    "instance",
    "_Feature"
   ],
   "window_display": false
  },
  "vscode": {
   "interpreter": {
    "hash": "fa6d0b462f4950f504f32a46a962e206da8c02a017c0babf0326a960e5d516e7"
   }
  }
 },
 "nbformat": 4,
 "nbformat_minor": 4
}
