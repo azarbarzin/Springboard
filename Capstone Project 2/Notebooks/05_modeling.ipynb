{
 "cells": [
  {
   "cell_type": "markdown",
   "metadata": {},
   "source": [
    "# 5 Modeling<a id='5_Modeling'></a>"
   ]
  },
  {
   "attachments": {},
   "cell_type": "markdown",
   "metadata": {},
   "source": [
    "## 5.1 Contents<a id='5.1_Contents'></a>\n",
    "* [5 Modeling](#5_Modeling)\n",
    "  * [5.1 Contents](#5.1_Contents)\n",
    "  * [5.2 Introduction](#5.2_Introduction)\n",
    "  * [5.3 Imports](#5.3_Imports)\n",
    "  * [5.4 Load Model](#5.4_Load_Model)\n",
    "  * [5.5 Load Data](#5.5_Load_Data)\n",
    "  * [5.10 Summary](#5.10_Summary)\n",
    "  * [5.11 Further work](#5.11_Further_work)\n"
   ]
  },
  {
   "cell_type": "markdown",
   "metadata": {},
   "source": [
    "## 5.2 Introduction<a id='5.2_Introduction'></a>"
   ]
  },
  {
   "attachments": {},
   "cell_type": "markdown",
   "metadata": {},
   "source": [
    "In this notebook, we now examine some models to examine their performances."
   ]
  },
  {
   "cell_type": "markdown",
   "metadata": {},
   "source": [
    "## 5.3 Imports<a id='5.3_Imports'></a>"
   ]
  },
  {
   "cell_type": "code",
   "execution_count": 27,
   "metadata": {},
   "outputs": [],
   "source": [
    "import pandas as pd\n",
    "import numpy as np\n",
    "import os\n",
    "import pickle\n",
    "import matplotlib.pyplot as plt\n",
    "import seaborn as sns\n",
    "from sklearn import __version__ as sklearn_version\n",
    "from sklearn.decomposition import PCA\n",
    "from sklearn.preprocessing import scale\n",
    "from sklearn.model_selection import train_test_split, cross_validate, GridSearchCV, learning_curve,StratifiedKFold\n",
    "from sklearn.preprocessing import StandardScaler, MinMaxScaler\n",
    "from sklearn.svm import SVC\n",
    "\n",
    "# from sklearn.dummy import DummyClassifier\n",
    "from sklearn.linear_model import LogisticRegression\n",
    "# from sklearn.svm import SVC, LinearSVC\n",
    "\n",
    "from sklearn.neighbors import KNeighborsClassifier\n",
    "from xgboost import XGBClassifier\n",
    "from lightgbm import LGBMClassifier\n",
    "from sklearn.neural_network import MLPClassifier\n",
    "\n",
    "from sklearn.ensemble import RandomForestClassifier\n",
    "from sklearn.metrics import plot_confusion_matrix, f1_score, accuracy_score, precision_score, recall_score, roc_auc_score, roc_curve\n",
    "from sklearn.metrics import classification_report\n",
    "from sklearn.metrics import confusion_matrix\n",
    "from sklearn.metrics import ConfusionMatrixDisplay\n",
    "\n",
    "from sklearn.pipeline import make_pipeline\n",
    "from sklearn.feature_selection import SelectKBest, f_regression, SelectFromModel\n",
    "\n",
    "import missingno as msno\n",
    "\n",
    "\n",
    "import datetime\n",
    "\n",
    "from library.sb_utils import save_file"
   ]
  },
  {
   "cell_type": "markdown",
   "metadata": {},
   "source": [
    "## 5.5 Load Data<a id='5.5_Load_Data'></a>"
   ]
  },
  {
   "cell_type": "code",
   "execution_count": 28,
   "metadata": {},
   "outputs": [
    {
     "data": {
      "text/html": [
       "<div>\n",
       "<style scoped>\n",
       "    .dataframe tbody tr th:only-of-type {\n",
       "        vertical-align: middle;\n",
       "    }\n",
       "\n",
       "    .dataframe tbody tr th {\n",
       "        vertical-align: top;\n",
       "    }\n",
       "\n",
       "    .dataframe thead th {\n",
       "        text-align: right;\n",
       "    }\n",
       "</style>\n",
       "<table border=\"1\" class=\"dataframe\">\n",
       "  <thead>\n",
       "    <tr style=\"text-align: right;\">\n",
       "      <th></th>\n",
       "      <th>t0</th>\n",
       "      <th>t1</th>\n",
       "      <th>t6</th>\n",
       "      <th>t7</th>\n",
       "      <th>t139</th>\n",
       "      <th>Target</th>\n",
       "    </tr>\n",
       "  </thead>\n",
       "  <tbody>\n",
       "    <tr>\n",
       "      <th>0</th>\n",
       "      <td>-0.112522</td>\n",
       "      <td>-2.827204</td>\n",
       "      <td>-2.181408</td>\n",
       "      <td>-1.818287</td>\n",
       "      <td>0.193137</td>\n",
       "      <td>1.0</td>\n",
       "    </tr>\n",
       "    <tr>\n",
       "      <th>1</th>\n",
       "      <td>-1.100878</td>\n",
       "      <td>-3.996840</td>\n",
       "      <td>-1.566126</td>\n",
       "      <td>-0.992258</td>\n",
       "      <td>-1.436250</td>\n",
       "      <td>1.0</td>\n",
       "    </tr>\n",
       "    <tr>\n",
       "      <th>2</th>\n",
       "      <td>-0.567088</td>\n",
       "      <td>-2.593450</td>\n",
       "      <td>-1.742940</td>\n",
       "      <td>-1.490658</td>\n",
       "      <td>-0.421797</td>\n",
       "      <td>1.0</td>\n",
       "    </tr>\n",
       "    <tr>\n",
       "      <th>3</th>\n",
       "      <td>0.490473</td>\n",
       "      <td>-1.914407</td>\n",
       "      <td>-2.993280</td>\n",
       "      <td>-1.671131</td>\n",
       "      <td>-0.383564</td>\n",
       "      <td>1.0</td>\n",
       "    </tr>\n",
       "    <tr>\n",
       "      <th>4</th>\n",
       "      <td>0.800232</td>\n",
       "      <td>-0.874252</td>\n",
       "      <td>-2.534510</td>\n",
       "      <td>-1.783423</td>\n",
       "      <td>1.421456</td>\n",
       "      <td>1.0</td>\n",
       "    </tr>\n",
       "  </tbody>\n",
       "</table>\n",
       "</div>"
      ],
      "text/plain": [
       "         t0        t1        t6        t7      t139  Target\n",
       "0 -0.112522 -2.827204 -2.181408 -1.818287  0.193137     1.0\n",
       "1 -1.100878 -3.996840 -1.566126 -0.992258 -1.436250     1.0\n",
       "2 -0.567088 -2.593450 -1.742940 -1.490658 -0.421797     1.0\n",
       "3  0.490473 -1.914407 -2.993280 -1.671131 -0.383564     1.0\n",
       "4  0.800232 -0.874252 -2.534510 -1.783423  1.421456     1.0"
      ]
     },
     "execution_count": 28,
     "metadata": {},
     "output_type": "execute_result"
    }
   ],
   "source": [
    "ecg_data = pd.read_csv('../data/ecg_data_step3_features_uncorrelated85.csv')\n",
    "ecg_data.head()"
   ]
  },
  {
   "cell_type": "code",
   "execution_count": 29,
   "metadata": {},
   "outputs": [],
   "source": [
    "# Show model's performance\n",
    "\n",
    "def model_results(model, y_train, y_tr_pred, y_test, y_te_pred, show_training_result=True ):\n",
    "\n",
    "    print( model)\n",
    "    print('-------------------------------------')\n",
    "    if show_training_result:\n",
    "        print(\"Classification Report for Training Data\")\n",
    "        print(classification_report(y_train, y_tr_pred, target_names=['ABNORMAL','NORMAL']))\n",
    "    print('-------------------------------------')\n",
    "    print(\"Classification Report for Test Data\")\n",
    "    print(classification_report(y_test, y_te_pred, target_names=['ABNORMAL','NORMAL']))\n"
   ]
  },
  {
   "cell_type": "code",
   "execution_count": 30,
   "metadata": {},
   "outputs": [],
   "source": [
    "# Plot Model's ROC\n",
    "\n",
    "def plot_ROC(model,X, y, title_method ):\n",
    "    \n",
    "    logit_roc_auc = roc_auc_score(y, model.predict(X))\n",
    "    fpr, tpr, thresholds = roc_curve(y, model.predict_proba(X)[:,1])\n",
    "    plt.figure()\n",
    "    plt.plot(fpr, tpr, label='{} (area = {:2.2%})'.format(title_method,logit_roc_auc))\n",
    "    plt.plot([0, 1], [0, 1],'r--')\n",
    "    plt.xlim([0.0, 1.0])\n",
    "    plt.ylim([0.0, 1.05])\n",
    "    plt.xlabel('False Positive Rate')\n",
    "    plt.ylabel('True Positive Rate')\n",
    "    plt.title('Receiver operating characteristic')\n",
    "    plt.legend(loc=\"lower right\")\n",
    "    plt.savefig('Log_ROC')\n",
    "    plt.show()"
   ]
  },
  {
   "cell_type": "code",
   "execution_count": 31,
   "metadata": {},
   "outputs": [],
   "source": [
    "#  train and test a model \n",
    "\n",
    "def train_test_model(model, grid_params, X_train, y_train, X_test, y_test, model_name):\n",
    "    pipe = make_pipeline(\n",
    "    StandardScaler(),\n",
    "    model\n",
    "    )\n",
    "\n",
    "    rskf = StratifiedKFold(n_splits = 5, random_state = 42, shuffle=False)\n",
    "    model_grid_cv = GridSearchCV(pipe, param_grid=grid_params, cv=rskf, n_jobs=-1)\n",
    "    print(model_grid_cv.get_params().keys())\n",
    "    # print(model_grid_cv)\n",
    "    model_grid_cv.fit(X_train, y_train)\n",
    "    \n",
    "    y_tr_pred = model_grid_cv.predict(X_train)\n",
    "    y_te_pred = model_grid_cv.predict(X_test)\n",
    "    \n",
    "\n",
    "\n",
    "    if model_name in ['Random Forest', 'K_Neighbors'] :\n",
    "        show_training_result = False\n",
    "    else:\n",
    "        show_training_result= True\n",
    "    model_results(model_name, y_train, y_tr_pred, y_test, y_te_pred,show_training_result )  \n",
    "    plot_ROC(model_grid_cv, X_test, y_test, model_name)\n",
    "\n",
    "    row_model = {'model_name':model_name, 'Accuracy on training data':accuracy_score(y_tr_pred, y_train), 'Accuracy on test data':accuracy_score(y_te_pred, y_test),\n",
    "'Precision score on training data':precision_score(y_train, y_tr_pred), 'Precision score  on test data':precision_score( y_test, y_te_pred), \n",
    "'Recall score on training data':recall_score(y_train, y_tr_pred), 'Recall score  on test data':recall_score( y_test, y_te_pred), \n",
    "'F1 score on training data':f1_score(y_train, y_tr_pred), 'F1 score  on test data':f1_score( y_test, y_te_pred), \n",
    "'Classification Report for Training Data':classification_report(y_train, y_tr_pred, target_names=['ABNORMAL','NORMAL']), \n",
    "'Classification Report for Test Data':classification_report(y_test, y_te_pred, target_names=['ABNORMAL','NORMAL']), \n",
    "'best_params_':model_grid_cv.best_params_\n",
    "\n",
    "    }\n",
    "    return(row_model) \n",
    "\n"
   ]
  },
  {
   "cell_type": "code",
   "execution_count": 32,
   "metadata": {},
   "outputs": [
    {
     "name": "stdout",
     "output_type": "stream",
     "text": [
      "0\n"
     ]
    },
    {
     "data": {
      "text/plain": [
       "<AxesSubplot:>"
      ]
     },
     "execution_count": 32,
     "metadata": {},
     "output_type": "execute_result"
    },
    {
     "data": {
      "image/png": "[encoded data removed]",
      "text/plain": [
       "<Figure size 1800x720 with 2 Axes>"
      ]
     },
     "metadata": {
      "needs_background": "light"
     },
     "output_type": "display_data"
    }
   ],
   "source": [
    "# https://www.quora.com/How-do-I-apply-supervised-learning-methods-to-time-series-classification\n",
    "\n",
    "ecg_data1 = ecg_data.copy()\n",
    "ecg_data1 = (ecg_data[ecg_data.columns[:-1]]+10).apply(np.log).join(ecg_data['Target'])\n",
    "\n",
    "print(ecg_data1['t139'].isnull().sum())\n",
    "# Visualize missing values as a matrix\n",
    "msno.matrix(ecg_data1)\n"
   ]
  },
  {
   "cell_type": "code",
   "execution_count": 33,
   "metadata": {},
   "outputs": [
    {
     "name": "stdout",
     "output_type": "stream",
     "text": [
      "(3998, 5) (3998,) (1000, 5) (1000,)\n"
     ]
    }
   ],
   "source": [
    "X_train, X_test, y_train, y_test = train_test_split(ecg_data1.drop(columns='Target'), \n",
    "                                                    ecg_data1.Target, test_size=0.2,\n",
    "                                                    stratify= ecg_data1.Target,random_state=47)\n",
    "\n",
    "print(X_train.shape, y_train.shape, X_test.shape,  y_test.shape)"
   ]
  },
  {
   "cell_type": "code",
   "execution_count": 42,
   "metadata": {},
   "outputs": [
    {
     "name": "stderr",
     "output_type": "stream",
     "text": [
      "c:\\Users\\armag\\Anaconda3\\lib\\site-packages\\sklearn\\model_selection\\_split.py:297: FutureWarning: Setting a random_state has no effect since shuffle is False. This will raise an error in 0.24. You should leave random_state to its default (None), or set shuffle=True.\n",
      "  FutureWarning\n"
     ]
    },
    {
     "name": "stdout",
     "output_type": "stream",
     "text": [
      "dict_keys(['cv', 'error_score', 'estimator__memory', 'estimator__steps', 'estimator__verbose', 'estimator__standardscaler', 'estimator__logisticregression', 'estimator__standardscaler__copy', 'estimator__standardscaler__with_mean', 'estimator__standardscaler__with_std', 'estimator__logisticregression__C', 'estimator__logisticregression__class_weight', 'estimator__logisticregression__dual', 'estimator__logisticregression__fit_intercept', 'estimator__logisticregression__intercept_scaling', 'estimator__logisticregression__l1_ratio', 'estimator__logisticregression__max_iter', 'estimator__logisticregression__multi_class', 'estimator__logisticregression__n_jobs', 'estimator__logisticregression__penalty', 'estimator__logisticregression__random_state', 'estimator__logisticregression__solver', 'estimator__logisticregression__tol', 'estimator__logisticregression__verbose', 'estimator__logisticregression__warm_start', 'estimator', 'iid', 'n_jobs', 'param_grid', 'pre_dispatch', 'refit', 'return_train_score', 'scoring', 'verbose'])\n",
      "Logistic Regression\n",
      "-------------------------------------\n",
      "Classification Report for Training Data\n",
      "              precision    recall  f1-score   support\n",
      "\n",
      "    ABNORMAL       0.93      0.91      0.92      1663\n",
      "      NORMAL       0.94      0.95      0.94      2335\n",
      "\n",
      "    accuracy                           0.93      3998\n",
      "   macro avg       0.93      0.93      0.93      3998\n",
      "weighted avg       0.93      0.93      0.93      3998\n",
      "\n",
      "-------------------------------------\n",
      "Classification Report for Test Data\n",
      "              precision    recall  f1-score   support\n",
      "\n",
      "    ABNORMAL       0.93      0.90      0.91       416\n",
      "      NORMAL       0.93      0.95      0.94       584\n",
      "\n",
      "    accuracy                           0.93      1000\n",
      "   macro avg       0.93      0.92      0.93      1000\n",
      "weighted avg       0.93      0.93      0.93      1000\n",
      "\n"
     ]
    },
    {
     "data": {
      "image/png": "[encoded data removed]",
      "text/plain": [
       "<Figure size 432x288 with 1 Axes>"
      ]
     },
     "metadata": {
      "needs_background": "light"
     },
     "output_type": "display_data"
    },
    {
     "name": "stdout",
     "output_type": "stream",
     "text": [
      "dict_keys(['cv', 'error_score', 'estimator__memory', 'estimator__steps', 'estimator__verbose', 'estimator__standardscaler', 'estimator__randomforestclassifier', 'estimator__standardscaler__copy', 'estimator__standardscaler__with_mean', 'estimator__standardscaler__with_std', 'estimator__randomforestclassifier__bootstrap', 'estimator__randomforestclassifier__ccp_alpha', 'estimator__randomforestclassifier__class_weight', 'estimator__randomforestclassifier__criterion', 'estimator__randomforestclassifier__max_depth', 'estimator__randomforestclassifier__max_features', 'estimator__randomforestclassifier__max_leaf_nodes', 'estimator__randomforestclassifier__max_samples', 'estimator__randomforestclassifier__min_impurity_decrease', 'estimator__randomforestclassifier__min_impurity_split', 'estimator__randomforestclassifier__min_samples_leaf', 'estimator__randomforestclassifier__min_samples_split', 'estimator__randomforestclassifier__min_weight_fraction_leaf', 'estimator__randomforestclassifier__n_estimators', 'estimator__randomforestclassifier__n_jobs', 'estimator__randomforestclassifier__oob_score', 'estimator__randomforestclassifier__random_state', 'estimator__randomforestclassifier__verbose', 'estimator__randomforestclassifier__warm_start', 'estimator', 'iid', 'n_jobs', 'param_grid', 'pre_dispatch', 'refit', 'return_train_score', 'scoring', 'verbose'])\n"
     ]
    },
    {
     "name": "stderr",
     "output_type": "stream",
     "text": [
      "c:\\Users\\armag\\Anaconda3\\lib\\site-packages\\sklearn\\model_selection\\_split.py:297: FutureWarning: Setting a random_state has no effect since shuffle is False. This will raise an error in 0.24. You should leave random_state to its default (None), or set shuffle=True.\n",
      "  FutureWarning\n"
     ]
    },
    {
     "name": "stdout",
     "output_type": "stream",
     "text": [
      "Random Forest\n",
      "-------------------------------------\n",
      "-------------------------------------\n",
      "Classification Report for Test Data\n",
      "              precision    recall  f1-score   support\n",
      "\n",
      "    ABNORMAL       0.94      0.91      0.92       416\n",
      "      NORMAL       0.94      0.96      0.95       584\n",
      "\n",
      "    accuracy                           0.94      1000\n",
      "   macro avg       0.94      0.93      0.94      1000\n",
      "weighted avg       0.94      0.94      0.94      1000\n",
      "\n"
     ]
    },
    {
     "data": {
      "image/png": "[encoded data removed]",
      "text/plain": [
       "<Figure size 432x288 with 1 Axes>"
      ]
     },
     "metadata": {
      "needs_background": "light"
     },
     "output_type": "display_data"
    },
    {
     "name": "stdout",
     "output_type": "stream",
     "text": [
      "dict_keys(['cv', 'error_score', 'estimator__memory', 'estimator__steps', 'estimator__verbose', 'estimator__standardscaler', 'estimator__kneighborsclassifier', 'estimator__standardscaler__copy', 'estimator__standardscaler__with_mean', 'estimator__standardscaler__with_std', 'estimator__kneighborsclassifier__algorithm', 'estimator__kneighborsclassifier__leaf_size', 'estimator__kneighborsclassifier__metric', 'estimator__kneighborsclassifier__metric_params', 'estimator__kneighborsclassifier__n_jobs', 'estimator__kneighborsclassifier__n_neighbors', 'estimator__kneighborsclassifier__p', 'estimator__kneighborsclassifier__weights', 'estimator', 'iid', 'n_jobs', 'param_grid', 'pre_dispatch', 'refit', 'return_train_score', 'scoring', 'verbose'])\n"
     ]
    },
    {
     "name": "stderr",
     "output_type": "stream",
     "text": [
      "c:\\Users\\armag\\Anaconda3\\lib\\site-packages\\sklearn\\model_selection\\_split.py:297: FutureWarning: Setting a random_state has no effect since shuffle is False. This will raise an error in 0.24. You should leave random_state to its default (None), or set shuffle=True.\n",
      "  FutureWarning\n"
     ]
    },
    {
     "name": "stdout",
     "output_type": "stream",
     "text": [
      "K_Neighbors\n",
      "-------------------------------------\n",
      "-------------------------------------\n",
      "Classification Report for Test Data\n",
      "              precision    recall  f1-score   support\n",
      "\n",
      "    ABNORMAL       0.93      0.94      0.94       416\n",
      "      NORMAL       0.96      0.95      0.95       584\n",
      "\n",
      "    accuracy                           0.95      1000\n",
      "   macro avg       0.94      0.95      0.95      1000\n",
      "weighted avg       0.95      0.95      0.95      1000\n",
      "\n"
     ]
    },
    {
     "data": {
      "image/png": "[encoded data removed]",
      "text/plain": [
       "<Figure size 432x288 with 1 Axes>"
      ]
     },
     "metadata": {
      "needs_background": "light"
     },
     "output_type": "display_data"
    },
    {
     "name": "stdout",
     "output_type": "stream",
     "text": [
      "dict_keys(['cv', 'error_score', 'estimator__memory', 'estimator__steps', 'estimator__verbose', 'estimator__standardscaler', 'estimator__mlpclassifier', 'estimator__standardscaler__copy', 'estimator__standardscaler__with_mean', 'estimator__standardscaler__with_std', 'estimator__mlpclassifier__activation', 'estimator__mlpclassifier__alpha', 'estimator__mlpclassifier__batch_size', 'estimator__mlpclassifier__beta_1', 'estimator__mlpclassifier__beta_2', 'estimator__mlpclassifier__early_stopping', 'estimator__mlpclassifier__epsilon', 'estimator__mlpclassifier__hidden_layer_sizes', 'estimator__mlpclassifier__learning_rate', 'estimator__mlpclassifier__learning_rate_init', 'estimator__mlpclassifier__max_fun', 'estimator__mlpclassifier__max_iter', 'estimator__mlpclassifier__momentum', 'estimator__mlpclassifier__n_iter_no_change', 'estimator__mlpclassifier__nesterovs_momentum', 'estimator__mlpclassifier__power_t', 'estimator__mlpclassifier__random_state', 'estimator__mlpclassifier__shuffle', 'estimator__mlpclassifier__solver', 'estimator__mlpclassifier__tol', 'estimator__mlpclassifier__validation_fraction', 'estimator__mlpclassifier__verbose', 'estimator__mlpclassifier__warm_start', 'estimator', 'iid', 'n_jobs', 'param_grid', 'pre_dispatch', 'refit', 'return_train_score', 'scoring', 'verbose'])\n"
     ]
    },
    {
     "name": "stderr",
     "output_type": "stream",
     "text": [
      "c:\\Users\\armag\\Anaconda3\\lib\\site-packages\\sklearn\\model_selection\\_split.py:297: FutureWarning: Setting a random_state has no effect since shuffle is False. This will raise an error in 0.24. You should leave random_state to its default (None), or set shuffle=True.\n",
      "  FutureWarning\n"
     ]
    },
    {
     "name": "stdout",
     "output_type": "stream",
     "text": [
      "Non Deep NN\n",
      "-------------------------------------\n",
      "Classification Report for Training Data\n",
      "              precision    recall  f1-score   support\n",
      "\n",
      "    ABNORMAL       0.98      0.97      0.97      1663\n",
      "      NORMAL       0.98      0.98      0.98      2335\n",
      "\n",
      "    accuracy                           0.98      3998\n",
      "   macro avg       0.98      0.98      0.98      3998\n",
      "weighted avg       0.98      0.98      0.98      3998\n",
      "\n",
      "-------------------------------------\n",
      "Classification Report for Test Data\n",
      "              precision    recall  f1-score   support\n",
      "\n",
      "    ABNORMAL       0.98      0.95      0.96       416\n",
      "      NORMAL       0.96      0.98      0.97       584\n",
      "\n",
      "    accuracy                           0.97      1000\n",
      "   macro avg       0.97      0.96      0.97      1000\n",
      "weighted avg       0.97      0.97      0.97      1000\n",
      "\n"
     ]
    },
    {
     "name": "stderr",
     "output_type": "stream",
     "text": [
      "c:\\Users\\armag\\Anaconda3\\lib\\site-packages\\sklearn\\neural_network\\_multilayer_perceptron.py:585: ConvergenceWarning: Stochastic Optimizer: Maximum iterations (200) reached and the optimization hasn't converged yet.\n",
      "  % self.max_iter, ConvergenceWarning)\n"
     ]
    },
    {
     "data": {
      "image/png": "[encoded data removed]",
      "text/plain": [
       "<Figure size 432x288 with 1 Axes>"
      ]
     },
     "metadata": {
      "needs_background": "light"
     },
     "output_type": "display_data"
    },
    {
     "name": "stderr",
     "output_type": "stream",
     "text": [
      "c:\\Users\\armag\\Anaconda3\\lib\\site-packages\\sklearn\\model_selection\\_split.py:297: FutureWarning: Setting a random_state has no effect since shuffle is False. This will raise an error in 0.24. You should leave random_state to its default (None), or set shuffle=True.\n",
      "  FutureWarning\n"
     ]
    },
    {
     "name": "stdout",
     "output_type": "stream",
     "text": [
      "dict_keys(['cv', 'error_score', 'estimator__memory', 'estimator__steps', 'estimator__verbose', 'estimator__standardscaler', 'estimator__svc', 'estimator__standardscaler__copy', 'estimator__standardscaler__with_mean', 'estimator__standardscaler__with_std', 'estimator__svc__C', 'estimator__svc__break_ties', 'estimator__svc__cache_size', 'estimator__svc__class_weight', 'estimator__svc__coef0', 'estimator__svc__decision_function_shape', 'estimator__svc__degree', 'estimator__svc__gamma', 'estimator__svc__kernel', 'estimator__svc__max_iter', 'estimator__svc__probability', 'estimator__svc__random_state', 'estimator__svc__shrinking', 'estimator__svc__tol', 'estimator__svc__verbose', 'estimator', 'iid', 'n_jobs', 'param_grid', 'pre_dispatch', 'refit', 'return_train_score', 'scoring', 'verbose'])\n",
      "SVM\n",
      "-------------------------------------\n",
      "Classification Report for Training Data\n",
      "              precision    recall  f1-score   support\n",
      "\n",
      "    ABNORMAL       0.97      0.97      0.97      1663\n",
      "      NORMAL       0.98      0.98      0.98      2335\n",
      "\n",
      "    accuracy                           0.98      3998\n",
      "   macro avg       0.98      0.97      0.97      3998\n",
      "weighted avg       0.98      0.98      0.98      3998\n",
      "\n",
      "-------------------------------------\n",
      "Classification Report for Test Data\n",
      "              precision    recall  f1-score   support\n",
      "\n",
      "    ABNORMAL       0.97      0.94      0.95       416\n",
      "      NORMAL       0.96      0.98      0.97       584\n",
      "\n",
      "    accuracy                           0.96      1000\n",
      "   macro avg       0.96      0.96      0.96      1000\n",
      "weighted avg       0.96      0.96      0.96      1000\n",
      "\n"
     ]
    },
    {
     "data": {
      "image/png": "[encoded data removed]",
      "text/plain": [
       "<Figure size 432x288 with 1 Axes>"
      ]
     },
     "metadata": {
      "needs_background": "light"
     },
     "output_type": "display_data"
    }
   ],
   "source": [
    "\n",
    "params = [\n",
    "    {'classifier' : [LogisticRegression(random_state=42)], 'model_name' : ['Logistic Regression'],\n",
    "    'param_grid': { 'logisticregression__penalty' : ['l1', 'l2', None], 'logisticregression__C' : np.logspace(-3,3,7), 'logisticregression__solver' : ['newton-cg', 'lbfgs', 'liblinear']}},\n",
    "    {'classifier' : [RandomForestClassifier(random_state=42)], 'model_name' : ['Random Forest'],\n",
    "    'param_grid': { 'randomforestclassifier__n_estimators' : list(range(10,100,200)), 'randomforestclassifier__max_depth' : [4,5,6,7,8], 'randomforestclassifier__criterion' :['gini', 'entropy']}}, \n",
    "    {'classifier' : [KNeighborsClassifier()], 'model_name' : ['K_Neighbors'],\n",
    "    'param_grid': { 'kneighborsclassifier__weights': ['uniform','distance'],'kneighborsclassifier__n_neighbors': [2]}},\n",
    "    # {'classifier' : [XGBClassifier()], 'model_name' : ['XGBoost'],\n",
    "    # 'param_grid': { 'xgbclassifier__learning_rate': [0.02,0.7,1.5], 'xgbclassifier__n_estimators': [600], 'xgbclassifier__gamma' : [0.5, 1.5]}}, \n",
    "    {'classifier' : [MLPClassifier(random_state=42)], 'model_name' : ['Non Deep NN'],\n",
    "    'param_grid': { 'mlpclassifier__hidden_layer_sizes': [(10,30,10),(20,)],\n",
    "    'mlpclassifier__activation': ['tanh', 'relu'],\n",
    "    'mlpclassifier__solver': ['sgd', 'adam'],\n",
    "    'mlpclassifier__alpha': [0.0001, 0.05],\n",
    "    'mlpclassifier__learning_rate': ['constant','adaptive'] }}, \n",
    "    {'classifier' : [SVC(random_state=42, probability=True)], 'model_name' : ['SVM'],\n",
    "    'param_grid': { 'svc__C': [0.1, 1, 10, 100, 1000],\n",
    "    'svc__gamma': [1, 0.1, 0.01, 0.001, 0.0001],\n",
    "    'svc__kernel': ['rbf'] }}\n",
    "\n",
    "]\n",
    "\n",
    "\n",
    "# define a dataframe to save performance metrics\n",
    "df_results = pd.DataFrame(columns=['model_name', 'Accuracy on training data', 'Accuracy on training data',\n",
    "'Precision score on training data', 'Precision score  on test data', \n",
    "'Recall score on training data', 'Recall score  on test data', \n",
    "'F1 score on training data', 'F1 score  on test data', \n",
    "'Classification Report for Training Data', \n",
    "'Classification Report for Test Data', \n",
    "'best_params_'])\n",
    "\n",
    "# train and test models\n",
    "for model_params in params:\n",
    "    model = model_params['classifier'][0]\n",
    "    param_grid = model_params['param_grid']\n",
    "    model_name = model_params['model_name'][0]\n",
    "    result = train_test_model(model, param_grid, X_train, y_train, X_test, y_test, model_name)\n",
    "    \n",
    "    df_results.loc[len(df_results.index)] = result"
   ]
  },
  {
   "cell_type": "code",
   "execution_count": 43,
   "metadata": {},
   "outputs": [
    {
     "data": {
      "text/html": [
       "<div>\n",
       "<style scoped>\n",
       "    .dataframe tbody tr th:only-of-type {\n",
       "        vertical-align: middle;\n",
       "    }\n",
       "\n",
       "    .dataframe tbody tr th {\n",
       "        vertical-align: top;\n",
       "    }\n",
       "\n",
       "    .dataframe thead th {\n",
       "        text-align: right;\n",
       "    }\n",
       "</style>\n",
       "<table border=\"1\" class=\"dataframe\">\n",
       "  <thead>\n",
       "    <tr style=\"text-align: right;\">\n",
       "      <th></th>\n",
       "      <th>model_name</th>\n",
       "      <th>Accuracy on training data</th>\n",
       "      <th>Accuracy on training data</th>\n",
       "      <th>Precision score on training data</th>\n",
       "      <th>Precision score  on test data</th>\n",
       "      <th>Recall score on training data</th>\n",
       "      <th>Recall score  on test data</th>\n",
       "      <th>F1 score on training data</th>\n",
       "      <th>F1 score  on test data</th>\n",
       "      <th>Classification Report for Training Data</th>\n",
       "      <th>Classification Report for Test Data</th>\n",
       "      <th>best_params_</th>\n",
       "    </tr>\n",
       "  </thead>\n",
       "  <tbody>\n",
       "    <tr>\n",
       "      <th>0</th>\n",
       "      <td>Logistic Regression</td>\n",
       "      <td>0.934217</td>\n",
       "      <td>0.934217</td>\n",
       "      <td>0.938611</td>\n",
       "      <td>0.928094</td>\n",
       "      <td>0.949465</td>\n",
       "      <td>0.950342</td>\n",
       "      <td>0.944007</td>\n",
       "      <td>0.939086</td>\n",
       "      <td>precision    recall  f1-score   ...</td>\n",
       "      <td>precision    recall  f1-score   ...</td>\n",
       "      <td>{'logisticregression__C': 10.0, 'logisticregre...</td>\n",
       "    </tr>\n",
       "    <tr>\n",
       "      <th>1</th>\n",
       "      <td>Random Forest</td>\n",
       "      <td>0.967984</td>\n",
       "      <td>0.967984</td>\n",
       "      <td>0.970576</td>\n",
       "      <td>0.937919</td>\n",
       "      <td>0.974732</td>\n",
       "      <td>0.957192</td>\n",
       "      <td>0.972650</td>\n",
       "      <td>0.947458</td>\n",
       "      <td>precision    recall  f1-score   ...</td>\n",
       "      <td>precision    recall  f1-score   ...</td>\n",
       "      <td>{'randomforestclassifier__criterion': 'entropy...</td>\n",
       "    </tr>\n",
       "    <tr>\n",
       "      <th>2</th>\n",
       "      <td>K_Neighbors</td>\n",
       "      <td>1.000000</td>\n",
       "      <td>1.000000</td>\n",
       "      <td>1.000000</td>\n",
       "      <td>0.958549</td>\n",
       "      <td>1.000000</td>\n",
       "      <td>0.950342</td>\n",
       "      <td>1.000000</td>\n",
       "      <td>0.954428</td>\n",
       "      <td>precision    recall  f1-score   ...</td>\n",
       "      <td>precision    recall  f1-score   ...</td>\n",
       "      <td>{'kneighborsclassifier__n_neighbors': 2, 'knei...</td>\n",
       "    </tr>\n",
       "    <tr>\n",
       "      <th>3</th>\n",
       "      <td>Non Deep NN</td>\n",
       "      <td>0.977739</td>\n",
       "      <td>0.977739</td>\n",
       "      <td>0.978687</td>\n",
       "      <td>0.963087</td>\n",
       "      <td>0.983298</td>\n",
       "      <td>0.982877</td>\n",
       "      <td>0.980987</td>\n",
       "      <td>0.972881</td>\n",
       "      <td>precision    recall  f1-score   ...</td>\n",
       "      <td>precision    recall  f1-score   ...</td>\n",
       "      <td>{'mlpclassifier__activation': 'relu', 'mlpclas...</td>\n",
       "    </tr>\n",
       "    <tr>\n",
       "      <th>4</th>\n",
       "      <td>SVM</td>\n",
       "      <td>0.975488</td>\n",
       "      <td>0.975488</td>\n",
       "      <td>0.977379</td>\n",
       "      <td>0.959664</td>\n",
       "      <td>0.980728</td>\n",
       "      <td>0.977740</td>\n",
       "      <td>0.979051</td>\n",
       "      <td>0.968617</td>\n",
       "      <td>precision    recall  f1-score   ...</td>\n",
       "      <td>precision    recall  f1-score   ...</td>\n",
       "      <td>{'svc__C': 10, 'svc__gamma': 0.1, 'svc__kernel...</td>\n",
       "    </tr>\n",
       "  </tbody>\n",
       "</table>\n",
       "</div>"
      ],
      "text/plain": [
       "            model_name  Accuracy on training data  Accuracy on training data  \\\n",
       "0  Logistic Regression                   0.934217                   0.934217   \n",
       "1        Random Forest                   0.967984                   0.967984   \n",
       "2          K_Neighbors                   1.000000                   1.000000   \n",
       "3          Non Deep NN                   0.977739                   0.977739   \n",
       "4                  SVM                   0.975488                   0.975488   \n",
       "\n",
       "   Precision score on training data  Precision score  on test data  \\\n",
       "0                          0.938611                       0.928094   \n",
       "1                          0.970576                       0.937919   \n",
       "2                          1.000000                       0.958549   \n",
       "3                          0.978687                       0.963087   \n",
       "4                          0.977379                       0.959664   \n",
       "\n",
       "   Recall score on training data  Recall score  on test data  \\\n",
       "0                       0.949465                    0.950342   \n",
       "1                       0.974732                    0.957192   \n",
       "2                       1.000000                    0.950342   \n",
       "3                       0.983298                    0.982877   \n",
       "4                       0.980728                    0.977740   \n",
       "\n",
       "   F1 score on training data  F1 score  on test data  \\\n",
       "0                   0.944007                0.939086   \n",
       "1                   0.972650                0.947458   \n",
       "2                   1.000000                0.954428   \n",
       "3                   0.980987                0.972881   \n",
       "4                   0.979051                0.968617   \n",
       "\n",
       "             Classification Report for Training Data  \\\n",
       "0                precision    recall  f1-score   ...   \n",
       "1                precision    recall  f1-score   ...   \n",
       "2                precision    recall  f1-score   ...   \n",
       "3                precision    recall  f1-score   ...   \n",
       "4                precision    recall  f1-score   ...   \n",
       "\n",
       "                 Classification Report for Test Data  \\\n",
       "0                precision    recall  f1-score   ...   \n",
       "1                precision    recall  f1-score   ...   \n",
       "2                precision    recall  f1-score   ...   \n",
       "3                precision    recall  f1-score   ...   \n",
       "4                precision    recall  f1-score   ...   \n",
       "\n",
       "                                        best_params_  \n",
       "0  {'logisticregression__C': 10.0, 'logisticregre...  \n",
       "1  {'randomforestclassifier__criterion': 'entropy...  \n",
       "2  {'kneighborsclassifier__n_neighbors': 2, 'knei...  \n",
       "3  {'mlpclassifier__activation': 'relu', 'mlpclas...  \n",
       "4  {'svc__C': 10, 'svc__gamma': 0.1, 'svc__kernel...  "
      ]
     },
     "execution_count": 43,
     "metadata": {},
     "output_type": "execute_result"
    }
   ],
   "source": [
    "df_results"
   ]
  }
 ],
 "metadata": {
  "kernelspec": {
   "display_name": "Python 3.7.4 ('base')",
   "language": "python",
   "name": "python3"
  },
  "language_info": {
   "codemirror_mode": {
    "name": "ipython",
    "version": 3
   },
   "file_extension": ".py",
   "mimetype": "text/x-python",
   "name": "python",
   "nbconvert_exporter": "python",
   "pygments_lexer": "ipython3",
   "version": "3.7.4"
  },
  "toc": {
   "base_numbering": 1,
   "nav_menu": {},
   "number_sections": true,
   "sideBar": true,
   "skip_h1_title": false,
   "title_cell": "Table of Contents",
   "title_sidebar": "Contents",
   "toc_cell": false,
   "toc_position": {},
   "toc_section_display": true,
   "toc_window_display": true
  },
  "varInspector": {
   "cols": {
    "lenName": 16,
    "lenType": 16,
    "lenVar": 40
   },
   "kernels_config": {
    "python": {
     "delete_cmd_postfix": "",
     "delete_cmd_prefix": "del ",
     "library": "var_list.py",
     "varRefreshCmd": "print(var_dic_list())"
    },
    "r": {
     "delete_cmd_postfix": ") ",
     "delete_cmd_prefix": "rm(",
     "library": "var_list.r",
     "varRefreshCmd": "cat(var_dic_list()) "
    }
   },
   "types_to_exclude": [
    "module",
    "function",
    "builtin_function_or_method",
    "instance",
    "_Feature"
   ],
   "window_display": false
  },
  "vscode": {
   "interpreter": {
    "hash": "fa6d0b462f4950f504f32a46a962e206da8c02a017c0babf0326a960e5d516e7"
   }
  }
 },
 "nbformat": 4,
 "nbformat_minor": 4
}
